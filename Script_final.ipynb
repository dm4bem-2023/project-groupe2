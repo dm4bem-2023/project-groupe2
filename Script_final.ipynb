{
 "cells": [
  {
   "cell_type": "markdown",
   "id": "8dd94565-3647-4a5e-b9b0-aa93f8979ba2",
   "metadata": {
    "tags": []
   },
   "source": [
    "<div align=\"center\">\n",
    "\n",
    "# Ecole centrale de Lyon \n",
    "\n",
    "<img src=\"./logo.png\" alt=\"EC\" width=\"100\"/>\n",
    "\n",
    "## Confort et energie de l'habitat\n",
    "### Rapport Reproductible\n",
    "\n",
    "---\n",
    "\n",
    "### Projet - Modèles dynamiques pour la gestion de l’énergie des bâtiments\n",
    "\n",
    "---\n",
    "\n",
    "</div>\n",
    "\n",
    "**Élèves :**  \n",
    "Yousra BARBOUCHA  \n",
    "Samah CHAABI  \n",
    "\n",
    "**Enseignant :**  \n",
    "Ghiaus Christian \n",
    "\n"
   ]
  },
  {
   "cell_type": "markdown",
   "id": "253bc8b5-553e-4a31-812c-819717eeb67b",
   "metadata": {},
   "source": [
    "# I. Introduction \n",
    "\n",
    "Ce projet a pour but de modéliser le comportement thermique d'un bâtiment. Par le biais de cette simulation, nous cherchons à comprendre comment divers facteurs tels que la conduction, la convection, le rayonnement et l'advection et la capacité thermique influencent les températures internes et la consommation d'énergie du bâtiment.\n",
    "\n",
    "Le projet sera divisé en quatre principales affectations, où nous allons:\n",
    "\n",
    "**Modéliser le bâtiment**: Cela inclut la création d'un plan détaillé du bâtiment, la sélection des matériaux, la définition des conditions limites et la construction d'un circuit thermique.\n",
    "\n",
    "**Atteindre l'état stationnaire**: Nous utiliserons Python pour implémenter les matrices de modélisation et simuler l'état stationnaire du bâtiment, avant de comparer ces résultats avec les résultats obtenus via une représentation de l'espace d'état.\n",
    "\n",
    "**Simuler la réponse à une étape**: Nous allons déterminer la dynamique temporelle du système en réponse à une entrée unique, en traçant les résultats pour analyse.\n",
    "\n",
    "Répondre aux conditions météorologiques: Cette partie consistera à intégrer les données météorologiques réelles et à simuler la réponse du bâtiment aux changements climatiques, en tenant compte de facteurs comme l'irradiation solaire et les gains internes."
   ]
  },
  {
   "cell_type": "markdown",
   "id": "0a6961bf-6fd2-4daf-b3a4-3c31f6c31a40",
   "metadata": {
    "tags": []
   },
   "source": [
    "# II. Description du bâtiment et hypothéses"
   ]
  },
  {
   "cell_type": "markdown",
   "id": "4683546d-ff21-4fa9-8da8-275f855d57ab",
   "metadata": {},
   "source": [
    "## II.1 Données météorologiques et localisation pour la modélisation thermique"
   ]
  },
  {
   "cell_type": "markdown",
   "id": "948db4e2-7a84-4395-8578-a69afb7cec46",
   "metadata": {
    "tags": []
   },
   "source": [
    "Pour la modélisation thermique du bâtiment, nous avons opté pour le maintien des données météorologiques et des caractéristiques du site telles que fournies par le projet mis à disposition sur MOODLE.\n",
    "\n",
    "Les données météorologiques sélectionnées correspondent à la ville de Lyon, en France, et ont été importées depuis la base de données [EnergyPlus™](https://energyplus.net/weather).\n",
    "\n",
    "Les paramètres de localisation et les variables utilisées pour le calcul du rayonnement solaire sont les suivants :\n",
    "\n",
    "Pente : 90° (ce qui indique des surfaces verticales)\n",
    "\n",
    "Azimut : 0° (orientation plein sud)\n",
    "\n",
    "Latitude : 45° (position géographique du site)\n",
    "\n",
    "Albedo : 0.2 (réfléctivité de la surface du bâtiment)\n",
    "\n",
    "\n",
    "Ces paramètres indiquent que le bâtiment est conçu avec une orientation sud, optimale pour l'exposition solaire dans l'hémisphère nord.\n"
   ]
  },
  {
   "cell_type": "markdown",
   "id": "e1791ae8-f798-4e70-b678-b88509a78bb5",
   "metadata": {},
   "source": [
    "## II.2 Description du bâtiment pour la modélisation thermique"
   ]
  },
  {
   "cell_type": "markdown",
   "id": "97f98c31-abff-4b25-9d90-4c6b9cf03be0",
   "metadata": {},
   "source": [
    "\n",
    "Le bâtiment choisi est un local cubique qui se compose de :\n",
    "- Trois faces verticales bicouches (béton-isolant).\n",
    "- Une face en béton sans isolation orientée plein sud.\n",
    "- Le cube est posé directement sur le sol, ce qui crée un contact direct entre la face inférieure et le sol.\n",
    "\n",
    "**Surfaces des murs :**\n",
    "\n",
    "- Longueur de l'arête du cube : \\( $l=3 \\: \\mathrm{m}$)\n",
    "- Surface du mur en béton sans isolation : \\(  $S_m=l^2$ )\n",
    "- Surface totale des cinq murs (béton et isolation) : \\($ S_c = S_i = 5 \\times S_m$)\n",
    "\n",
    "**Caractéristiques des matériaux :**\n",
    "\n",
    "*Béton :*\n",
    "\n",
    "- Conductivité thermique :  1 400 $ \\ {W/m} \\cdot \\text{K} $\n",
    "- Densité :  2300 $ {kg/m}^3 $\n",
    "- Chaleur spécifique :  880 $ {J/kg} \\cdot \\text{K} $ \n",
    "- Épaisseur :  0.2 $\\: \\mathrm{m}$\n",
    "\n",
    "*Isolation :*\n",
    "\n",
    "- Conductivité thermique :  0.027 $ \\ {W/m} \\cdot \\text{K} $\n",
    "- Densité :  55.0 $ {kg/m}^3 $\n",
    "- Chaleur spécifique : 1210 $ {J/kg} \\cdot \\text{K} $ \n",
    "- Épaisseur : 0.08 $\\: \\mathrm{m}$\n",
    "\n",
    "**Propriétés radiatives :**\n",
    "\n",
    "- Émissivité des ondes longues pour la surface du mur (béton) : \\( $\\epsilon_{\\text{w}}$ = 0.85 \\)\n",
    "- Absorptivité des ondes courtes pour une surface lisse blanche : \\($ \\alpha_{\\text{w}}$ = 0.25 \\)\n",
    "- Constante de bolzmann : \\(  $ \\sigma = 5.67 \\times 10^{-8} \\, \\text{W/m}^2 \\cdot \\text{K}^4  $ \\)\n",
    "\n",
    "\n",
    "**Propriétés Thermique de l'air :**\n",
    "\n",
    "\n",
    "*Air :* \n",
    "\n",
    "\n",
    "- Densité : 1.2 $ {kg/m}^3 $\n",
    "- Capacité thermique : 1000 $ {J/kg} \\cdot \\text{K} $ \n",
    "- Coefficient de convection de l'air intérieur : 8 $ {W/m^2} \\cdot \\text{K} $ \n",
    "- Coefficient de convection de l'air Exterieur : 25 $ {W/m^2} \\cdot \\text{K} $ \n",
    "\n",
    "\n"
   ]
  },
  {
   "cell_type": "markdown",
   "id": "f497d14a-d9bd-41e8-91e5-304d66b30fa9",
   "metadata": {
    "tags": []
   },
   "source": [
    "La figure descrivant le bâtiment est représentée si-dessous: \n",
    "\n",
    "![local](./Bâtiment.png)\n",
    "\n",
    ">Figure 1. Pièce  ventilée  équipée d'un système CVC agissant comme un régulateur proportionnel.\n"
   ]
  },
  {
   "cell_type": "markdown",
   "id": "5256f02d-0324-4be2-908b-00e1f77af73a",
   "metadata": {
    "tags": []
   },
   "source": [
    "## II.3 Schéma thermique "
   ]
  },
  {
   "cell_type": "markdown",
   "id": "c5b97de5-d686-4597-b465-eeb5b8621095",
   "metadata": {
    "tags": []
   },
   "source": [
    "## Réseau thermique\n",
    "\n",
    "Les réseaux thermiques (ou circuits) sont des graphes orientés pondérés dans lesquels :\n",
    "- les **nœuds**  représentent les températures, $\\theta_i$, de points géométriques, surfaces ou volumes ;\n",
    "- les branches orientées **branches** représentent les débits de flux de chaleur thermique, $q_j$, entre les nœuds de température.\n",
    "\n",
    "![basic_TC](./figures/A01_Basic_thermal_circuit.svg)\n",
    "> Figure 2. Réseau thermique de base.\n",
    "\n",
    "Un réseau thermique comporte au moins une branche orientée, $q$, et un nœud, $\\theta$.\n",
    "\n",
    "Dans un nœud se trouvent une capacité thermique, $C_i$, (qui peut être positive ou nulle) et une source de débit de flux de chaleur, $\\dot Q_i$, (qui peut être nulle).\n",
    "\n",
    "Sur une branche, il y a une conductance, $G_j > 0$, (qui doit être strictement positive) et une source de température, $T_j$ (qui peut être nulle).\n",
    "Pour le [modèle jouet](https://fr.m.wikipedia.org/wiki/Modèle_jouet) présenté à la Figure 1, le transfert de chaleur se fait :\n",
    "- à travers les murs (béton et isolation),\n",
    "- par ventilation,\n",
    "- depuis des sources auxiliaires intérieures,\n",
    "- depuis le système CVC.\n",
    "Les sources sont :\n",
    "- $T_o$ - température extérieure, °C;\n",
    "-  $T_{i,sp}$ - température de consigne pour l'air intérieur, °C;\n",
    "- $\\Phi_o$ - rayonnement solaire absorbé par la surface extérieure du mur, W;\n",
    "- $\\Phi_i$ - rayonnement solaire absorbé par la surface intérieure du mur, W;\n",
    "- $\\dot{Q}_a$  - gains de chaleur auxiliaires (c.-à-d., occupants, appareils électriques, etc.), W;\n",
    "- $\\Phi_a$ - rayonnement solaire absorbé par le vitrage, W.\n",
    "La figures ci-dessous représente le schéma thermique pour le bâtiment modélisé: \n",
    "\n",
    "![basic_TC](./schéma.drawio.svg)\n",
    "> Figure 3. Schéma thermique de base.\n",
    "\n",
    "\n"
   ]
  },
  {
   "cell_type": "markdown",
   "id": "d772b25a-aa77-4a2e-9170-57e3353cb1e8",
   "metadata": {},
   "source": [
    "### Conductances thermiques\n",
    "#### Conduction\n",
    "Les conductances 1, 2, 3, 4 ,8,9,10 du circuit thermique de la Figure 3 modélisent le transfert de chaleur par conduction. Les conductances de conduction, en W/K, sont de la forme :\n",
    "$$G_{cd} = \\frac{\\lambda}{w}S$$\n",
    "où :\n",
    "\n",
    "- \\( $\\lambda \\ $) - Conductivité thermique,  \\ $ {W/m} \\cdot \\text{K} $;\n",
    "- \\( w \\) - largeur du matériau, m;\n",
    "- \\( S \\) - surface de la paroi, m².\n"
   ]
  },
  {
   "cell_type": "markdown",
   "id": "8ac7fad1-b01e-4da6-bd38-d79336376a60",
   "metadata": {},
   "source": [
    "\n",
    "#### Convection\n",
    "Les conductances 0,6,7 et 8 modélisent le transfert de chaleur par [convection](https://fr.wikipedia.org/wiki/Convection_(transfert_de_chaleur)). Les conductances de convection, en W/K, sont de la forme :\n",
    "$$ G_{cv} = hS $$\n",
    "où :\n",
    "- \\( h \\) - coefficient de convection, W/(m²⋅K);\n",
    "- \\( S \\) - surface de la paroi, m²."
   ]
  },
  {
   "cell_type": "markdown",
   "id": "e5af4ed3-0439-460c-b711-4f240e528800",
   "metadata": {},
   "source": [
    " #### Transfert par Rayonnement\n",
    " Afin d'exprimer l'échange radiatif à longue onde en fonction des différences de température, une linéarisation de la différence des températures \\($T_1^4 - T_2^4$\\) peut être utilisée :\n",
    "\n",
    "$$T_1^4 - T_2^4 = (T_1^2 + T_2^2)(T_1^2 - T_2^2) = (T_1^2 + T_2^2)(T_1 + T_2)(T_1 - T_2) = 4 \\bar{T}^3 (T_1 - T_2)$$\n",
    "\n",
    "où la température moyenne \\($\\bar{T}\\$), mesurée en kelvin, est :\n",
    "\n",
    "$$\\bar{T} =\\sqrt[3]{ \\frac{(T_1^2 + T_2^2)(T_1 + T_2)}{4}}$$\n",
    "\n",
    "L'évaluation de la température moyenne, \\($\\bar{T}\\$), nécessite les valeurs des températures de surface, \\(T_1\\) et \\(T_2\\). Une première estimation peut être utilisée (et ensuite un processus itératif, pour une évaluation plus précise).\n",
    "\n",
    "Après linéarisation, les conductances, en W/K, pour l'échange de chaleur radiatif sont :\n",
    "\n",
    "$$G_{1} = 4 \\sigma \\bar{T}^3 \\frac{\\varepsilon_1}{1 - \\varepsilon_1} S_1$$\n",
    "\n",
    "$$G_{1,2} = 4 \\sigma \\bar{T}^3 F_{1,2} S_1 = 4 \\sigma \\bar{T}^3 F_{2,1} S_2$$\n",
    "\n",
    "$$G_{2} = 4 \\sigma \\bar{T}^3 \\frac{\\varepsilon_2}{1 - \\varepsilon_2} S_2$$\n",
    "\n",
    "La conductance équivalente, en W/K, pour l'échange de chaleur radiatif à longue onde entre le mur et la fenêtre vitrée est :\n",
    "$$G = \\frac{1}{1/G_1 + 1/G_{1,2} + 1/G_2}$$\n",
    "\n"
   ]
  },
  {
   "cell_type": "markdown",
   "id": "501c7761-ca2a-43cb-99e8-a60740631bcc",
   "metadata": {},
   "source": [
    "#### Advection\n",
    "\n",
    "Le débit volumique de l'air, en m³/s, est :\n",
    "\n",
    "$$\\dot{V}_a = \\frac{\\mathrm{ACH}}{3600} V_a$$\n",
    "\n",
    "où :\n",
    "- $\\mathrm{ACH}$ (Changements d'Air par Heure) est le taux d'infiltration d'air, 1/h ;\n",
    "- $3600$ - nombre de secondes dans une heure, s/h ;\n",
    "- $V_a$ - volume de l'air dans la zone thermique, m³.\n"
   ]
  },
  {
   "cell_type": "markdown",
   "id": "c55364b0-ec84-472f-bd13-2e65224dc726",
   "metadata": {},
   "source": [
    "#### Contrôleur proportionnel\n",
    "\n",
    "Dans la représentation la plus simple, le système CVC peut être considéré comme un contrôleur proportionnel qui ajuste le débit de chaleur $q_{HVAC}$ afin de contrôler la température intérieure $\\theta_i$ à sa valeur de consigne $T_{i,sp}$. Le débit de chaleur, en W, injecté par le système CVC dans l'espace contrôlé est :\n",
    "\n",
    "$$ q_{HVAC} = K_p (T_{i, sp} - \\theta_i)$$\n",
    "\n",
    "où :\n",
    "- $ K_p $ - est le gain proportionnel, W/K ;\n",
    "- $ T_{i, sp} $ - température de consigne intérieure, °C (noté en majuscule car c'est une *variable indépendante, c'est-à-dire une entrée*) ;\n",
    "- $\\theta_i $ - température intérieure, °C (noté en minuscule car c'est une *variable dépendante, c'est-à-dire une sortie*).\n",
    "\n",
    "Cette équation montre que le contrôleur proportionnel peut être modélisé par une source de température, $ T_{i, sp} $, et une conductance, $ K_p $. Si le gain du contrôleur tend vers :\n",
    "- l'infini, $ K_p \\rightarrow \\infty $, alors le contrôleur est parfait, $\\theta_i \\rightarrow T_{i, sp}$.\n",
    "- zéro, $ K_p \\rightarrow 0 $, alors le contrôleur n'agit pas et le bâtiment est en régime libre, c'est-à-dire $ q_{HVAC} = 0 $.\n",
    "\n",
    "*Note* : Respectant la convention de signe, le débit $ q_{HVAC}$ est orienté du potentiel inférieur vers le potentiel supérieur de la source de température $ T_{i,sp} $.\n"
   ]
  },
  {
   "cell_type": "markdown",
   "id": "3a4f0353-cc22-453c-8065-3a4cea06339d",
   "metadata": {},
   "source": [
    "### Capacités thermiques\n",
    "#### Murs\n",
    "Les capacités thermiques du mur, en J/kg, sont :\n",
    "\n",
    "$$C_w= m_w c_w= \\rho_w c_w w_w S_w$$\n",
    "\n",
    "où :\n",
    "- $m_w  \\rho_w w_w S_w $ est la masse du mur, kg ;\n",
    "\n",
    "- $c_w$ - capacité thermique spécifique, J/(kg⋅K) ;\n",
    "\n",
    "- $\\rho_w$ - densité, kg/m³ ;\n",
    "\n",
    "- $w_w$ - largeur du mur, m ;\n",
    "\n",
    "- $S_w$ - surface du mur, m².\n",
    "\n",
    "\n",
    "#### Air\n",
    "\n",
    "De même, la capacité thermique de l'air, en J/kg, est :\n",
    "\n",
    "$$C_a = m_a c_a = \\rho_a c_a V_a$$\n",
    "\n",
    "où :\n",
    "- $ m_a = \\rho_a V_a $  est la masse de l'air, kg ;\n",
    "- $ \\rho_a $ - densité de l'air, kg/m³ ;\n",
    "- $ c_a $ - capacité thermique spécifique de l'air, J/(kg⋅K) ;\n",
    "- $ V_a $ - volume de l'air dans la zone thermique, m³.\n"
   ]
  },
  {
   "cell_type": "markdown",
   "id": "504cb616-47ba-4c62-83eb-df6c4f44c792",
   "metadata": {
    "tags": []
   },
   "source": [
    "## II.4 Système d’équations algébriques différentielles (DAE)"
   ]
  },
  {
   "cell_type": "markdown",
   "id": "a1e99b79-0b23-4363-9851-33816033092c",
   "metadata": {
    "tags": []
   },
   "source": [
    "L'analyse d'un circuit thermique, ou le problème direct, signifie trouver les températures aux nœuds, $\\theta$, et les flux de chaleur sur les branches, \\(q\\), c'est-à-dire résoudre pour $\\theta$ et \\(q\\) le système d'Équations Différentielles-Algébriques (DAE) :\n",
    "\n",
    "$$\\left\\{\\begin{array}{ll}\n",
    "C \\dot{\\theta} = -(A^T G A) \\theta + A^T G b + f\\\\ \n",
    "q = G (-A \\theta + b)\n",
    "\\end{array}\\right.$$\n",
    "\n",
    "où :\n",
    "- $\\theta$ est le vecteur de température de taille $n_\\theta$ égal au nombre de nœuds ;\n",
    "- $q$ - vecteur de flux de chaleur de taille $n_q$ égal au nombre de branches ;\n",
    "-$A$ - matrice d'incidence de taille $n_q$lignes et $n_{\\theta}$ colonnes, où $n_q$ est le nombre de branches de flux et $n_{\\theta}$ est le nombre de nœuds de température. Elle montre comment les nœuds de température sont connectés par des branches orientées de flux de chaleur :\n",
    "    - si le flux *m* entre dans le nœud *n*, alors l'élément (*m, n*) de la matrice $A$ est 1, c'est-à-dire, $A_{m,n} = 1$ ;\n",
    "    - si le flux *m* sort du nœud *n*, alors l'élément (*m, n*) de la matrice $ A $ est -1, c'est-à-dire, $ A_{m,n} = -1 $ ;\n",
    "    - si le flux *m* n'est pas connecté au nœud *n*, alors l'élément (*m, n*) de la matrice $ A $est 0, c'est-à-dire, $A_{m,n} = 0$.\n",
    "\n",
    "- $G$ - matrice diagonale de conductance de taille $n_q \\times n_q$, où $n_q$ est le nombre de branches de flux : matrice diagonale contenant les conductances. Chaque branche $k$ doit contenir une conductance $0 < G_{k,k} < \\infty $.\n",
    "\n",
    "- $C$- matrice diagonale de capacité de taille $n_θ \\times n_θ$, où $n_θ$ est le nombre de nœuds de température : matrice diagonale contenant les capacités. Si aucun capacité n'est présente dans le nœud *n*, alors $C_{n, n} = 0$.\n",
    "\n",
    "- $b$ - vecteur source de température de taille $n_q$: si aucune source de température n'est présente sur la branche *m*, alors $b_m = 0$.\n",
    "\n",
    "- $f$ - vecteur source de flux de chaleur de taille $n_θ$: si aucune source de flux de chaleur n'est présente dans le nœud *n*, alors $f_n = 0$.\n",
    "\n",
    "La résolution est d'abord effectuée pour les températures, \\(\\theta\\), en résolvant l'équation\n",
    "$$C \\dot{\\theta} = -(A^T G A) \\theta + A^T G b + f$$\n",
    "qui, généralement, est un système d'équations différentielles-algébriques (DAE). Ensuite, les débits de flux de chaleur sont trouvés à partir de l'équation\n",
    "$$q = G (-A \\theta + b)$$\n"
   ]
  },
  {
   "cell_type": "markdown",
   "id": "addcc43e-88f2-4a6f-9017-e11f578f4648",
   "metadata": {},
   "source": [
    "# II. Résolution numérique "
   ]
  },
  {
   "cell_type": "markdown",
   "id": "b5c8d4af-4c3d-43d9-b15c-2aa93ed741f3",
   "metadata": {},
   "source": [
    "## Code"
   ]
  },
  {
   "cell_type": "markdown",
   "id": "32f7752c-9259-44d8-b129-c2aca6abcb22",
   "metadata": {},
   "source": [
    "### Bibliothéque "
   ]
  },
  {
   "cell_type": "code",
   "execution_count": 1,
   "id": "764b77e2-3f93-4484-9842-6b328305d517",
   "metadata": {},
   "outputs": [],
   "source": [
    "import numpy as np\n",
    "import pandas as pd\n",
    "import matplotlib.pyplot as plt\n",
    "import dm4bem"
   ]
  },
  {
   "cell_type": "markdown",
   "id": "6ed8ef1b-802e-4d12-b929-1d0fe66e93dc",
   "metadata": {},
   "source": [
    "### Surfaces "
   ]
  },
  {
   "cell_type": "code",
   "execution_count": 2,
   "id": "e81f680f-dfcf-42a7-95f0-25869b407aee",
   "metadata": {},
   "outputs": [],
   "source": [
    "l = 3               # m length of the cubic room\n",
    "Sg = l**2           # m² surface of the glass wall\n",
    "Sc = Si = 5 * Sg    # m² surface of concrete & insulation of the 5 walls"
   ]
  },
  {
   "cell_type": "markdown",
   "id": "04249e0b-1f3d-47f5-b8f7-024135cda83b",
   "metadata": {},
   "source": [
    "### Caractéristiques "
   ]
  },
  {
   "cell_type": "code",
   "execution_count": 3,
   "id": "6b636b8a-a7af-4ebe-9eee-578dea6f7742",
   "metadata": {},
   "outputs": [
    {
     "data": {
      "text/html": [
       "<div>\n",
       "<style scoped>\n",
       "    .dataframe tbody tr th:only-of-type {\n",
       "        vertical-align: middle;\n",
       "    }\n",
       "\n",
       "    .dataframe tbody tr th {\n",
       "        vertical-align: top;\n",
       "    }\n",
       "\n",
       "    .dataframe thead th {\n",
       "        text-align: right;\n",
       "    }\n",
       "</style>\n",
       "<table border=\"1\" class=\"dataframe\">\n",
       "  <thead>\n",
       "    <tr style=\"text-align: right;\">\n",
       "      <th></th>\n",
       "      <th>Density</th>\n",
       "      <th>Specific heat</th>\n",
       "    </tr>\n",
       "  </thead>\n",
       "  <tbody>\n",
       "    <tr>\n",
       "      <th>Air</th>\n",
       "      <td>1.2</td>\n",
       "      <td>1000</td>\n",
       "    </tr>\n",
       "  </tbody>\n",
       "</table>\n",
       "</div>"
      ],
      "text/plain": [
       "     Density  Specific heat\n",
       "Air      1.2           1000"
      ]
     },
     "execution_count": 3,
     "metadata": {},
     "output_type": "execute_result"
    }
   ],
   "source": [
    "air = {'Density': 1.2,                      # kg/m³\n",
    "       'Specific heat': 1000}               # J/(kg·K)\n",
    "# pd.DataFrame.from_dict(air, orient='index', columns=['air'])\n",
    "pd.DataFrame(air, index=['Air'])"
   ]
  },
  {
   "cell_type": "code",
   "execution_count": 4,
   "id": "2db86dfc-2fd4-4a32-94b2-a21dcd1286c8",
   "metadata": {},
   "outputs": [
    {
     "data": {
      "text/html": [
       "<div>\n",
       "<style scoped>\n",
       "    .dataframe tbody tr th:only-of-type {\n",
       "        vertical-align: middle;\n",
       "    }\n",
       "\n",
       "    .dataframe tbody tr th {\n",
       "        vertical-align: top;\n",
       "    }\n",
       "\n",
       "    .dataframe thead th {\n",
       "        text-align: right;\n",
       "    }\n",
       "</style>\n",
       "<table border=\"1\" class=\"dataframe\">\n",
       "  <thead>\n",
       "    <tr style=\"text-align: right;\">\n",
       "      <th></th>\n",
       "      <th>Conductivity</th>\n",
       "      <th>Density</th>\n",
       "      <th>Specific heat</th>\n",
       "      <th>Width</th>\n",
       "      <th>Surface</th>\n",
       "    </tr>\n",
       "  </thead>\n",
       "  <tbody>\n",
       "    <tr>\n",
       "      <th>Layer_out</th>\n",
       "      <td>1.400</td>\n",
       "      <td>2300.0</td>\n",
       "      <td>880</td>\n",
       "      <td>0.20</td>\n",
       "      <td>45</td>\n",
       "    </tr>\n",
       "    <tr>\n",
       "      <th>Layer_in</th>\n",
       "      <td>0.027</td>\n",
       "      <td>55.0</td>\n",
       "      <td>1210</td>\n",
       "      <td>0.08</td>\n",
       "      <td>45</td>\n",
       "    </tr>\n",
       "    <tr>\n",
       "      <th>Glass</th>\n",
       "      <td>1.400</td>\n",
       "      <td>2500.0</td>\n",
       "      <td>1210</td>\n",
       "      <td>0.04</td>\n",
       "      <td>9</td>\n",
       "    </tr>\n",
       "  </tbody>\n",
       "</table>\n",
       "</div>"
      ],
      "text/plain": [
       "           Conductivity  Density  Specific heat  Width  Surface\n",
       "Layer_out         1.400   2300.0            880   0.20       45\n",
       "Layer_in          0.027     55.0           1210   0.08       45\n",
       "Glass             1.400   2500.0           1210   0.04        9"
      ]
     },
     "execution_count": 4,
     "metadata": {},
     "output_type": "execute_result"
    }
   ],
   "source": [
    "concrete = {'Conductivity': 1.400,\n",
    "            'Density': 2300.0,\n",
    "            'Specific heat': 880,\n",
    "            'Width': 0.2,\n",
    "            'Surface': 5 * l**2}\n",
    "\n",
    "insulation = {'Conductivity': 0.027,\n",
    "              'Density': 55.0,\n",
    "              'Specific heat': 1210,\n",
    "              'Width': 0.08,\n",
    "              'Surface': 5 * l**2}\n",
    "\n",
    "glass = {'Conductivity': 1.4,\n",
    "         'Density': 2500,\n",
    "         'Specific heat': 1210,\n",
    "         'Width': 0.04,\n",
    "         'Surface': l**2}\n",
    "\n",
    "wall = pd.DataFrame.from_dict({'Layer_out': concrete,\n",
    "                               'Layer_in': insulation,\n",
    "                               'Glass': glass},\n",
    "                              orient='index')\n",
    "wall"
   ]
  },
  {
   "cell_type": "code",
   "execution_count": 5,
   "id": "415dff20-125d-4988-b863-90e17919f217",
   "metadata": {},
   "outputs": [],
   "source": [
    "# radiative properties\n",
    "ε_wLW = 0.85    # long wave emmisivity: wall surface (concrete)\n",
    "ε_gLW = 0.90    # long wave emmisivity: glass pyrex\n",
    "α_wSW = 0.25    # short wave absortivity: white smooth surface\n",
    "α_gSW = 0.38    # short wave absortivity: reflective blue glass\n",
    "τ_gSW = 0.30    # short wave transmitance: reflective blue glass"
   ]
  },
  {
   "cell_type": "code",
   "execution_count": 6,
   "id": "1de290ff-7474-4623-aca9-fadfd45593ee",
   "metadata": {},
   "outputs": [],
   "source": [
    "σ = 5.67e-8     # W/(m²⋅K⁴) Stefan-Bolzmann constant\n"
   ]
  },
  {
   "cell_type": "code",
   "execution_count": 7,
   "id": "c77bc614-0b91-4d45-93b6-8562947255de",
   "metadata": {},
   "outputs": [],
   "source": [
    "h = pd.DataFrame([{'in': 8., 'out': 25}], index=['h'])  # W/(m²⋅K)"
   ]
  },
  {
   "cell_type": "code",
   "execution_count": 8,
   "id": "a9fd244e-9fcd-42e7-b56a-a6438a41f9fd",
   "metadata": {},
   "outputs": [
    {
     "data": {
      "text/html": [
       "<div>\n",
       "<style scoped>\n",
       "    .dataframe tbody tr th:only-of-type {\n",
       "        vertical-align: middle;\n",
       "    }\n",
       "\n",
       "    .dataframe tbody tr th {\n",
       "        vertical-align: top;\n",
       "    }\n",
       "\n",
       "    .dataframe thead th {\n",
       "        text-align: right;\n",
       "    }\n",
       "</style>\n",
       "<table border=\"1\" class=\"dataframe\">\n",
       "  <thead>\n",
       "    <tr style=\"text-align: right;\">\n",
       "      <th></th>\n",
       "      <th>in</th>\n",
       "      <th>out</th>\n",
       "    </tr>\n",
       "  </thead>\n",
       "  <tbody>\n",
       "    <tr>\n",
       "      <th>h</th>\n",
       "      <td>8.0</td>\n",
       "      <td>25</td>\n",
       "    </tr>\n",
       "  </tbody>\n",
       "</table>\n",
       "</div>"
      ],
      "text/plain": [
       "    in  out\n",
       "h  8.0   25"
      ]
     },
     "execution_count": 8,
     "metadata": {},
     "output_type": "execute_result"
    }
   ],
   "source": [
    "h"
   ]
  },
  {
   "cell_type": "markdown",
   "id": "7fe863a9-d988-4089-979a-ab5aa804d553",
   "metadata": {},
   "source": [
    "### Conductance thermiques "
   ]
  },
  {
   "cell_type": "code",
   "execution_count": 9,
   "id": "23b6045b-18c2-4598-8c3b-a3e95e9fe541",
   "metadata": {},
   "outputs": [
    {
     "data": {
      "text/html": [
       "<div>\n",
       "<style scoped>\n",
       "    .dataframe tbody tr th:only-of-type {\n",
       "        vertical-align: middle;\n",
       "    }\n",
       "\n",
       "    .dataframe tbody tr th {\n",
       "        vertical-align: top;\n",
       "    }\n",
       "\n",
       "    .dataframe thead th {\n",
       "        text-align: right;\n",
       "    }\n",
       "</style>\n",
       "<table border=\"1\" class=\"dataframe\">\n",
       "  <thead>\n",
       "    <tr style=\"text-align: right;\">\n",
       "      <th></th>\n",
       "      <th>Conductance</th>\n",
       "    </tr>\n",
       "  </thead>\n",
       "  <tbody>\n",
       "    <tr>\n",
       "      <th>Layer_out</th>\n",
       "      <td>315.0000</td>\n",
       "    </tr>\n",
       "    <tr>\n",
       "      <th>Layer_in</th>\n",
       "      <td>15.1875</td>\n",
       "    </tr>\n",
       "    <tr>\n",
       "      <th>Glass</th>\n",
       "      <td>315.0000</td>\n",
       "    </tr>\n",
       "  </tbody>\n",
       "</table>\n",
       "</div>"
      ],
      "text/plain": [
       "           Conductance\n",
       "Layer_out     315.0000\n",
       "Layer_in       15.1875\n",
       "Glass         315.0000"
      ]
     },
     "execution_count": 9,
     "metadata": {},
     "output_type": "execute_result"
    }
   ],
   "source": [
    "# conduction\n",
    "G_cd = wall['Conductivity'] / wall['Width'] * wall['Surface']\n",
    "pd.DataFrame(G_cd, columns=['Conductance'])"
   ]
  },
  {
   "cell_type": "code",
   "execution_count": 10,
   "id": "3df65dcd-7962-42f5-80f2-e71d4cbc6486",
   "metadata": {},
   "outputs": [],
   "source": [
    "# convection\n",
    "Gw = h * wall['Surface'][0]     # wall\n",
    "Gg = h * wall['Surface'][2]     # glass"
   ]
  },
  {
   "cell_type": "code",
   "execution_count": 11,
   "id": "728db6f6-aa01-4f5c-8cae-6e3fd8a3ddc4",
   "metadata": {},
   "outputs": [],
   "source": [
    "# view factor wall-glass\n",
    "Fwg = glass['Surface'] / concrete['Surface']"
   ]
  },
  {
   "cell_type": "code",
   "execution_count": 12,
   "id": "f911a20f-4e20-43b3-aa72-a7e329a0b951",
   "metadata": {},
   "outputs": [],
   "source": [
    "# long wave radiation\n",
    "Tm = 20 + 273   # K, mean temp for radiative exchange\n",
    "\n",
    "GLW1 = 4 * σ * Tm**3 * ε_wLW / (1 - ε_wLW) * wall['Surface']['Layer_in']\n",
    "GLW12 = 4 * σ * Tm**3 * Fwg * wall['Surface']['Layer_in']\n",
    "GLW2 = 4 * σ * Tm**3 * ε_gLW / (1 - ε_gLW) * wall['Surface']['Glass']"
   ]
  },
  {
   "cell_type": "code",
   "execution_count": 13,
   "id": "8f9999e8-b7ed-4f5b-87c9-5068d576b05e",
   "metadata": {},
   "outputs": [],
   "source": [
    "GLW = 1 / (1 / GLW1 + 1 / GLW12 + 1 / GLW2)"
   ]
  },
  {
   "cell_type": "code",
   "execution_count": 14,
   "id": "4de7fa16-19de-449b-b932-58a89ad98fb5",
   "metadata": {},
   "outputs": [],
   "source": [
    "# ventilation flow rate\n",
    "Va = l**3                   # m³, volume of air\n",
    "ACH = 1                     # air changes per hour\n",
    "Va_dot = ACH / 3600 * Va    # m³/s, air infiltration"
   ]
  },
  {
   "cell_type": "code",
   "execution_count": 15,
   "id": "12396b52-d8be-4445-8360-0f70c905d7f8",
   "metadata": {},
   "outputs": [],
   "source": [
    "# ventilation & advection\n",
    "Gv = air['Density'] * air['Specific heat'] * Va_dot"
   ]
  },
  {
   "cell_type": "code",
   "execution_count": 16,
   "id": "b2e864e6-7854-465c-8049-18967065e84f",
   "metadata": {},
   "outputs": [],
   "source": [
    "# P-controler gain\n",
    "Kp = 1e4            # almost perfect controller Kp -> ∞\n",
    "Kp = 1e-3           # no controller Kp -> 0\n",
    "Kp = 0"
   ]
  },
  {
   "cell_type": "code",
   "execution_count": 17,
   "id": "00673392-3443-4a45-8772-2533b07bfe51",
   "metadata": {},
   "outputs": [],
   "source": [
    "# glass: convection outdoor & conduction\n",
    "Ggs = float(1 / (1 / Gg.loc['h', 'out'] + 1 / (2 * G_cd['Glass'])))"
   ]
  },
  {
   "cell_type": "code",
   "execution_count": 18,
   "id": "069c5751-493f-46a9-9d62-d415c8c86c36",
   "metadata": {},
   "outputs": [],
   "source": [
    "C = wall['Density'] * wall['Specific heat'] * wall['Surface'] * wall['Width']"
   ]
  },
  {
   "cell_type": "code",
   "execution_count": 19,
   "id": "5ad5ddf7-6842-4ad5-adf0-61081c440ef1",
   "metadata": {},
   "outputs": [
    {
     "data": {
      "text/html": [
       "<div>\n",
       "<style scoped>\n",
       "    .dataframe tbody tr th:only-of-type {\n",
       "        vertical-align: middle;\n",
       "    }\n",
       "\n",
       "    .dataframe tbody tr th {\n",
       "        vertical-align: top;\n",
       "    }\n",
       "\n",
       "    .dataframe thead th {\n",
       "        text-align: right;\n",
       "    }\n",
       "</style>\n",
       "<table border=\"1\" class=\"dataframe\">\n",
       "  <thead>\n",
       "    <tr style=\"text-align: right;\">\n",
       "      <th></th>\n",
       "      <th>Capacity</th>\n",
       "    </tr>\n",
       "  </thead>\n",
       "  <tbody>\n",
       "    <tr>\n",
       "      <th>Layer_out</th>\n",
       "      <td>18216000.0</td>\n",
       "    </tr>\n",
       "    <tr>\n",
       "      <th>Layer_in</th>\n",
       "      <td>239580.0</td>\n",
       "    </tr>\n",
       "    <tr>\n",
       "      <th>Glass</th>\n",
       "      <td>1089000.0</td>\n",
       "    </tr>\n",
       "    <tr>\n",
       "      <th>Air</th>\n",
       "      <td>32400.0</td>\n",
       "    </tr>\n",
       "  </tbody>\n",
       "</table>\n",
       "</div>"
      ],
      "text/plain": [
       "             Capacity\n",
       "Layer_out  18216000.0\n",
       "Layer_in     239580.0\n",
       "Glass       1089000.0\n",
       "Air           32400.0"
      ]
     },
     "execution_count": 19,
     "metadata": {},
     "output_type": "execute_result"
    }
   ],
   "source": [
    "C['Air'] = air['Density'] * air['Specific heat'] * Va\n",
    "pd.DataFrame(C, columns=['Capacity'])"
   ]
  },
  {
   "cell_type": "markdown",
   "id": "e0eeaa18-4cbb-4ac3-b7e9-98b3edbb863f",
   "metadata": {},
   "source": [
    "\n",
    "### A : matrice d'incidence\n",
    "\n",
    "La matrice d'incidence est :\n",
    "\n",
    "$$A_{kl} = \\begin{cases}\n",
    "0 & \\text{si la branche } q_k \\text{ n'est pas connectée au nœud } \\theta_l \\\\ \n",
    "+1 & \\text{si la branche } q_k \\text{ entre dans le nœud } \\theta_l\\\\ \n",
    "-1 & \\text{si la branche } q_k \\text{ sort du nœud } \\theta_l \n",
    "\\end{cases}$$\n",
    "\n",
    "Pour le circuit thermique montré dans la Figure 3,\n",
    "\n",
    "$$ A = \\begin{cases}\n",
    "A_{0,0} = 1\\\\ \n",
    "A_{1,0} = -1, A_{1,1} = 1\\\\ \n",
    "...\\\\\n",
    "A_{12,6} = 1\\\\\n",
    "\\end{cases}$$\n"
   ]
  },
  {
   "cell_type": "code",
   "execution_count": 20,
   "id": "beaddf90-558e-45e4-a912-f5db92f2430a",
   "metadata": {},
   "outputs": [
    {
     "data": {
      "text/plain": [
       "(13, 9)"
      ]
     },
     "execution_count": 20,
     "metadata": {},
     "output_type": "execute_result"
    }
   ],
   "source": [
    "A = np.zeros([13,9])       \n",
    "A[0, 0] = 1                 \n",
    "A[1, 0], A[1, 1] = -1, 1    \n",
    "A[2, 1], A[2, 2] = -1, 1    \n",
    "A[3, 2], A[3, 3] = -1, 1    \n",
    "A[4, 3], A[4, 4] = -1, 1    \n",
    "A[5, 4], A[5, 5] = -1, 1    \n",
    "A[6, 4], A[6, 6] = -1, 1    \n",
    "A[7, 5], A[7, 6] = -1, 1    \n",
    "A[8,8]=1\n",
    "A[9, 7],A[9, 8] = 1,-1                 \n",
    "A[10, 5],A[10,7] = 1,-1\n",
    "A[11,6]=1\n",
    "A[12,6]=1\n",
    "A.shape"
   ]
  },
  {
   "cell_type": "markdown",
   "id": "2c2db9a2-e612-4077-8cb1-9f14a3111fb2",
   "metadata": {},
   "source": [
    "### G : matrice de conductance\n",
    "\n",
    "La matrice de conductance du circuit thermique montré dans la Figure 3 est diagonale :\n",
    "\n",
    "$$ G = \\begin{cases}\n",
    "G_{0,0} = G_{w,out} & \\text{convection à la surface extérieure du mur (béton)}\\\\ \n",
    "G_{1,1} = G_{2,2} = 2G_{cd,Couche\\,ext} & \\text{conduction dans la demi-largeur de la couche externe}\\\\ \n",
    "G_{3,3} = G_{4,4} = 2G_{cd,Couche\\,int} & \\text{conduction dans la demi-largeur de la couche interne}\\\\ \n",
    "G_{5,5} = G_{LW} & \\text{rayonnement à longue onde murs - fenêtre}\\\\\n",
    "G_{6,6} = G_{w,in} & \\text{convection à la surface intérieure du mur}\\\\\n",
    "G_{7,7} = G_{w,out} & \\text{convection à la surface extérieure du mur}\\\\ \n",
    "G_{8,8} = G_{9,9} = 2G_{cd,Couche\\,ext} & \\text{conduction dans la demi-largeur de la couche externe}\\\\ \n",
    "G_{10,10} = 2G_{cd,verre} & \\text{conduction dans la demi-largeur du verre}\\\\\n",
    "G_{11,11} = G_v & \\text{advection par ventilation}\\\\\n",
    "G_{12,12} = K_p & \\text{gain du contrôleur proportionnel}\n",
    "\\end{cases}$$\n"
   ]
  },
  {
   "cell_type": "code",
   "execution_count": 21,
   "id": "8c53e123-581d-40bd-8be5-0013a4b8e74f",
   "metadata": {},
   "outputs": [
    {
     "data": {
      "text/plain": [
       "(13, 13)"
      ]
     },
     "execution_count": 21,
     "metadata": {},
     "output_type": "execute_result"
    }
   ],
   "source": [
    "G = np.diag(np.hstack(\n",
    "    [Gw['out'],\n",
    "     2 * G_cd['Layer_out'], 2 * G_cd['Layer_out'],\n",
    "     2 * G_cd['Layer_in'], 2 * G_cd['Layer_in'],\n",
    "     GLW,\n",
    "     Gw['in'],\n",
    "     Gw['in'],\n",
    "     Gw['out'],\n",
    "     2 * G_cd['Layer_out'], 2 * G_cd['Layer_out'],\n",
    "     Gv,\n",
    "     Kp]))\n",
    "\n",
    "# np.set_printoptions(precision=3, threshold=16, suppress=True)\n",
    "# pd.set_option(\"display.precision\", 1)\n",
    "# pd.DataFrame(G)\n",
    "G.shape"
   ]
  },
  {
   "cell_type": "markdown",
   "id": "0d0d7f02-bc07-497f-a66b-0f07682530fb",
   "metadata": {},
   "source": [
    "### C : matrice de capacité\n",
    "\n",
    "La matrice de capacité du circuit thermique montré dans la Figure 3 est diagonale :\n",
    "\n",
    "$$ C = \\begin{cases}\n",
    "C_{1,1} = C_{\\text{Couche ext}} & \\text{couche externe du mur}\\\\ \n",
    "C_{3,3} = C_{\\text{Couche int}} & \\text{couche interne du mur}\\\\ \n",
    "C_{6,6} = C_{\\text{Air}} & \\text{air de la pièce}\\\\ \n",
    "C_{7,7} = C_{\\text{Couche ext}} & \\text{couche externe du mur}\\\\\n",
    "\\end{cases}$$\n",
    "\n",
    "Les capacités thermiques de l'air  peuvent être négligées ou non.\n"
   ]
  },
  {
   "cell_type": "code",
   "execution_count": 22,
   "id": "ca2b5a02-7d8e-4292-8a91-46a4ffcc3200",
   "metadata": {},
   "outputs": [
    {
     "data": {
      "text/plain": [
       "(9, 9)"
      ]
     },
     "execution_count": 22,
     "metadata": {},
     "output_type": "execute_result"
    }
   ],
   "source": [
    "neglect_air_glass = False\n",
    "\n",
    "if neglect_air_glass:\n",
    "    C = np.diag([0, C['Layer_out'], 0, C['Layer_in'], 0, 0,\n",
    "                 0, C['Layer_out'],0])\n",
    "else:\n",
    "    C = np.diag([0, C['Layer_out'], 0, C['Layer_in'], 0, 0,\n",
    "                 C['Air'], C['Layer_out'],0])\n",
    "\n",
    "# pd.set_option(\"display.precision\", 3)\n",
    "# pd.DataFrame(C)\n",
    "C.shape "
   ]
  },
  {
   "cell_type": "markdown",
   "id": "efedaf69-3d44-427b-8901-0a68be3edabd",
   "metadata": {
    "tags": []
   },
   "source": [
    "### b: vecteur de source de température "
   ]
  },
  {
   "cell_type": "code",
   "execution_count": 23,
   "id": "26aab83c-5ed8-427a-8ec2-afdf98923cbf",
   "metadata": {},
   "outputs": [
    {
     "name": "stdout",
     "output_type": "stream",
     "text": [
      "b =  [1. 0. 0. 0. 0. 0. 0. 0. 1. 0. 0. 1. 1.]\n"
     ]
    }
   ],
   "source": [
    "b = np.zeros(13)        # branches\n",
    "b[[0, 8,11,12]] = 1   # branches with temperature sources\n",
    "print(f'b = ', b)"
   ]
  },
  {
   "cell_type": "markdown",
   "id": "236ad1c6-64ac-4e42-b7cb-46be011ccc75",
   "metadata": {
    "tags": []
   },
   "source": [
    "### f: vecteur flux de chaleur \n"
   ]
  },
  {
   "cell_type": "code",
   "execution_count": 24,
   "id": "0879a889-03f1-4858-b039-014ba391197d",
   "metadata": {},
   "outputs": [
    {
     "name": "stdout",
     "output_type": "stream",
     "text": [
      "f =  [1. 0. 0. 0. 1. 0. 1. 0. 1.]\n"
     ]
    }
   ],
   "source": [
    "f = np.zeros(9)         # nodes\n",
    "f[[0, 4, 6,8]] = 1     # nodes with heat-flow sources\n",
    "print(f'f = ', f)"
   ]
  },
  {
   "cell_type": "markdown",
   "id": "5dee59ff-9153-498a-ab9b-a1bedb6b5d35",
   "metadata": {
    "tags": []
   },
   "source": [
    "### y : vecteur de sortie\n",
    "\n",
    "Le vecteur des sorties est $y$, de taille $n_{\\theta}$, le nombre de nœuds . Les valeurs non nulles de $y$ indiquent les nœuds qui sont les sorties du modèle.\n",
    "\n",
    "Pour le circuit thermique montré dans la Figure 3, si la sortie est la température de l'air intérieur, alors le vecteur de sortie est :\n",
    "\n",
    "$$y = [\\begin{matrix}\n",
    "0  &0  &0  &0  &0  &0  &1 &0 &0 \n",
    "\\end{matrix}]^T$$\n",
    "\n",
    "Dans le vecteur $y$, les nœuds pour lesquels les températures sont des sorties sont notés par \\(1\\) et les autres nœuds par \\(0\\).\n"
   ]
  },
  {
   "cell_type": "code",
   "execution_count": 25,
   "id": "19fe1e2e-15aa-4739-9524-8003117eac45",
   "metadata": {},
   "outputs": [
    {
     "name": "stdout",
     "output_type": "stream",
     "text": [
      "y =  [0. 0. 0. 0. 0. 0. 1. 0. 0.]\n"
     ]
    }
   ],
   "source": [
    "y = np.zeros(9)         # nodes\n",
    "y[[6]] = 1              # nodes (temperatures) of interest\n",
    "print(f'y = ', y)"
   ]
  },
  {
   "cell_type": "markdown",
   "id": "966dd727-c0b3-4c10-b458-6b3383219905",
   "metadata": {
    "tags": []
   },
   "source": [
    "## Représentation d'état\n",
    "Le système d'équations différentielles-algébriques (DAE)\n",
    "\n",
    "$$C \\dot{\\theta} = -(A^T G A) \\theta + A^T G b + f$$\n",
    "\n",
    "est transformé en représentation d'état :\n",
    "\n",
    "$$\\left\\{\\begin{array}{rr}\n",
    "\\dot{\\theta}_s=A_s \\theta_s + B_s u\\\\ \n",
    "y = C_s \\theta_s + D_s u\n",
    "\\end{array}\\right.$$\n",
    "\n",
    "où :\n",
    "- $\\theta_s$ est le vecteur des variables d'état qui sont les températures des nœuds contenant des capacités ; les éléments sont dans le même ordre que dans le vecteur des températures, $\\theta$ ; sa dimension, $\\dim \\theta_s$, est égale au nombre de capacités du réseau thermique ; pour le circuit présenté dans la Figure 3, $\\theta_s = [\\theta_1, \\theta_3, \\theta_6, \\theta_7]^T$ ;\n",
    "\n",
    "- $u = \\begin{bmatrix} b_T \\\\ f_Q\\end{bmatrix}$ - vecteur des entrées de dimension $\\dim u$ égale au nombre de sources (de température, $b_T$, et de flux de chaleur, $f_Q$ du réseau thermique, où :\n",
    "\n",
    "    - vecteur $b_T$ des éléments non nuls du vecteur $b$ des sources de température ; pour le circuit présenté dans la Figure 3, $b_T = [T_o, T_o, T_o, T_{i,sp}]^T$ correspond aux branches 0, 8, 11 et 12 ; \n",
    "    - vecteur $f_Q$ des éléments non nuls du vecteur $f$ des sources de flux ; pour le circuit présenté dans la Figure 3, $f_Q = [\\Phi_o, \\Phi_i, \\dot{Q}_a, \\Phi_o]^T$ correspond aux nœuds 0, 4, 6, et 8 ;\n",
    "    \n",
    "- $y$ - vecteur des sorties, un sous-ensemble du vecteur $\\theta$ représentant les nœuds de température qui sont d'intérêt ; pour le circuit présenté dans la Figure 3, \\(y = \\theta_6\\), la température intérieure.\n",
    "\n",
    "- $A_s$- matrice d'état, de dimension $\\dim A_s = \\dim {\\theta_s} \\times \\dim {\\theta_s}$ ;\n",
    "\n",
    "- $B_s$ - matrice des entrées, de dimension $\\dim B_s = \\dim {\\theta_s} \\times \\dim u$;\n",
    "\n",
    "- $C_s$ - matrice des sorties, de dimension \\(\\dim C_s = \\dim y \\times \\dim {\\theta_s}\\) ;\n",
    "\n",
    "- $D_s$ - matrice de transmission directe, de dimension \\(\\dim D_s = \\dim y \\times \\dim u\\).\n",
    "\n",
    "*Note* : Le suffixe $s$ des matrices $A_s, B_s, C_s, D_s$ est utilisé pour différencier les matrices $A_s, C_s$ de la représentation d'état des matrices $A, C$ du système de DAE.\n"
   ]
  },
  {
   "cell_type": "markdown",
   "id": "c70c3d14-d402-4fb5-a7d0-18a83f556c97",
   "metadata": {
    "tags": []
   },
   "source": [
    "### Représentation des matrices pour les variables d'états "
   ]
  },
  {
   "cell_type": "code",
   "execution_count": 26,
   "id": "23c9de06-8be7-4dff-a734-027c31349e27",
   "metadata": {},
   "outputs": [
    {
     "name": "stdout",
     "output_type": "stream",
     "text": [
      "(4, 22)\n",
      "[ 0  8 11 12 13 17 19 21]\n"
     ]
    }
   ],
   "source": [
    "[As, Bs, Cs, Ds] = dm4bem.tc2ss(A, G, C, b, f, y)\n",
    "θs = ['θ1', 'θ3', 'θ6','θ7']       # state temperature nodes\n",
    "uT = ['q0', 'q6', 'q8','q11']     # temperature sources\n",
    "uQ = ['θ0', 'θ4','θ6','θ8']       # flow sources\n",
    "u = uT + uQ                         # inputs\n",
    "y = ['θ6']                          # output"
   ]
  },
  {
   "cell_type": "code",
   "execution_count": 27,
   "id": "d2d9e0fb-a580-4747-8309-fb779eef9c9a",
   "metadata": {},
   "outputs": [
    {
     "data": {
      "text/html": [
       "<div>\n",
       "<style scoped>\n",
       "    .dataframe tbody tr th:only-of-type {\n",
       "        vertical-align: middle;\n",
       "    }\n",
       "\n",
       "    .dataframe tbody tr th {\n",
       "        vertical-align: top;\n",
       "    }\n",
       "\n",
       "    .dataframe thead th {\n",
       "        text-align: right;\n",
       "    }\n",
       "</style>\n",
       "<table border=\"1\" class=\"dataframe\">\n",
       "  <thead>\n",
       "    <tr style=\"text-align: right;\">\n",
       "      <th></th>\n",
       "      <th>θ1</th>\n",
       "      <th>θ3</th>\n",
       "      <th>θ6</th>\n",
       "      <th>θ7</th>\n",
       "    </tr>\n",
       "  </thead>\n",
       "  <tbody>\n",
       "    <tr>\n",
       "      <th>θ1</th>\n",
       "      <td>-0.000024</td>\n",
       "      <td>1.590791e-06</td>\n",
       "      <td>0.000000</td>\n",
       "      <td>0.000000</td>\n",
       "    </tr>\n",
       "    <tr>\n",
       "      <th>θ3</th>\n",
       "      <td>0.000121</td>\n",
       "      <td>-2.388477e-04</td>\n",
       "      <td>0.000110</td>\n",
       "      <td>0.000008</td>\n",
       "    </tr>\n",
       "    <tr>\n",
       "      <th>θ6</th>\n",
       "      <td>0.000000</td>\n",
       "      <td>8.127618e-04</td>\n",
       "      <td>-0.008585</td>\n",
       "      <td>0.007494</td>\n",
       "    </tr>\n",
       "    <tr>\n",
       "      <th>θ7</th>\n",
       "      <td>0.000000</td>\n",
       "      <td>1.049521e-07</td>\n",
       "      <td>0.000013</td>\n",
       "      <td>-0.000036</td>\n",
       "    </tr>\n",
       "  </tbody>\n",
       "</table>\n",
       "</div>"
      ],
      "text/plain": [
       "          θ1            θ3        θ6        θ7\n",
       "θ1 -0.000024  1.590791e-06  0.000000  0.000000\n",
       "θ3  0.000121 -2.388477e-04  0.000110  0.000008\n",
       "θ6  0.000000  8.127618e-04 -0.008585  0.007494\n",
       "θ7  0.000000  1.049521e-07  0.000013 -0.000036"
      ]
     },
     "execution_count": 27,
     "metadata": {},
     "output_type": "execute_result"
    }
   ],
   "source": [
    "pd.DataFrame(As, index=θs, columns=θs)"
   ]
  },
  {
   "cell_type": "code",
   "execution_count": 28,
   "id": "45f01493-c24a-4721-87cd-3b8a041ecfe8",
   "metadata": {},
   "outputs": [
    {
     "data": {
      "text/html": [
       "<div>\n",
       "<style scoped>\n",
       "    .dataframe tbody tr th:only-of-type {\n",
       "        vertical-align: middle;\n",
       "    }\n",
       "\n",
       "    .dataframe tbody tr th {\n",
       "        vertical-align: top;\n",
       "    }\n",
       "\n",
       "    .dataframe thead th {\n",
       "        text-align: right;\n",
       "    }\n",
       "</style>\n",
       "<table border=\"1\" class=\"dataframe\">\n",
       "  <thead>\n",
       "    <tr style=\"text-align: right;\">\n",
       "      <th></th>\n",
       "      <th>q0</th>\n",
       "      <th>q6</th>\n",
       "      <th>q8</th>\n",
       "      <th>q11</th>\n",
       "      <th>θ0</th>\n",
       "      <th>θ4</th>\n",
       "      <th>θ6</th>\n",
       "      <th>θ8</th>\n",
       "    </tr>\n",
       "  </thead>\n",
       "  <tbody>\n",
       "    <tr>\n",
       "      <th>θ1</th>\n",
       "      <td>0.000022</td>\n",
       "      <td>0.000000</td>\n",
       "      <td>0.000000</td>\n",
       "      <td>0.0</td>\n",
       "      <td>1.970654e-08</td>\n",
       "      <td>0.000000e+00</td>\n",
       "      <td>0.000000</td>\n",
       "      <td>0.000000e+00</td>\n",
       "    </tr>\n",
       "    <tr>\n",
       "      <th>θ3</th>\n",
       "      <td>0.000000</td>\n",
       "      <td>0.000000</td>\n",
       "      <td>0.000000</td>\n",
       "      <td>0.0</td>\n",
       "      <td>0.000000e+00</td>\n",
       "      <td>2.926536e-07</td>\n",
       "      <td>0.000000</td>\n",
       "      <td>0.000000e+00</td>\n",
       "    </tr>\n",
       "    <tr>\n",
       "      <th>θ6</th>\n",
       "      <td>0.000000</td>\n",
       "      <td>0.000000</td>\n",
       "      <td>0.000278</td>\n",
       "      <td>0.0</td>\n",
       "      <td>0.000000e+00</td>\n",
       "      <td>2.675759e-05</td>\n",
       "      <td>0.000031</td>\n",
       "      <td>0.000000e+00</td>\n",
       "    </tr>\n",
       "    <tr>\n",
       "      <th>θ7</th>\n",
       "      <td>0.000000</td>\n",
       "      <td>0.000022</td>\n",
       "      <td>0.000000</td>\n",
       "      <td>0.0</td>\n",
       "      <td>0.000000e+00</td>\n",
       "      <td>3.455214e-09</td>\n",
       "      <td>0.000000</td>\n",
       "      <td>1.970654e-08</td>\n",
       "    </tr>\n",
       "  </tbody>\n",
       "</table>\n",
       "</div>"
      ],
      "text/plain": [
       "          q0        q6        q8  q11            θ0            θ4        θ6  \\\n",
       "θ1  0.000022  0.000000  0.000000  0.0  1.970654e-08  0.000000e+00  0.000000   \n",
       "θ3  0.000000  0.000000  0.000000  0.0  0.000000e+00  2.926536e-07  0.000000   \n",
       "θ6  0.000000  0.000000  0.000278  0.0  0.000000e+00  2.675759e-05  0.000031   \n",
       "θ7  0.000000  0.000022  0.000000  0.0  0.000000e+00  3.455214e-09  0.000000   \n",
       "\n",
       "              θ8  \n",
       "θ1  0.000000e+00  \n",
       "θ3  0.000000e+00  \n",
       "θ6  0.000000e+00  \n",
       "θ7  1.970654e-08  "
      ]
     },
     "execution_count": 28,
     "metadata": {},
     "output_type": "execute_result"
    }
   ],
   "source": [
    "pd.DataFrame(Bs, index=θs, columns=u)"
   ]
  },
  {
   "cell_type": "code",
   "execution_count": 29,
   "id": "2742fa42-e6f3-44da-9a70-77276a1ebb3b",
   "metadata": {},
   "outputs": [
    {
     "data": {
      "text/html": [
       "<div>\n",
       "<style scoped>\n",
       "    .dataframe tbody tr th:only-of-type {\n",
       "        vertical-align: middle;\n",
       "    }\n",
       "\n",
       "    .dataframe tbody tr th {\n",
       "        vertical-align: top;\n",
       "    }\n",
       "\n",
       "    .dataframe thead th {\n",
       "        text-align: right;\n",
       "    }\n",
       "</style>\n",
       "<table border=\"1\" class=\"dataframe\">\n",
       "  <thead>\n",
       "    <tr style=\"text-align: right;\">\n",
       "      <th></th>\n",
       "      <th>θ1</th>\n",
       "      <th>θ3</th>\n",
       "      <th>θ6</th>\n",
       "      <th>θ7</th>\n",
       "    </tr>\n",
       "  </thead>\n",
       "  <tbody>\n",
       "    <tr>\n",
       "      <th>θ6</th>\n",
       "      <td>0.0</td>\n",
       "      <td>0.0</td>\n",
       "      <td>1.0</td>\n",
       "      <td>0.0</td>\n",
       "    </tr>\n",
       "  </tbody>\n",
       "</table>\n",
       "</div>"
      ],
      "text/plain": [
       "     θ1   θ3   θ6   θ7\n",
       "θ6  0.0  0.0  1.0  0.0"
      ]
     },
     "execution_count": 29,
     "metadata": {},
     "output_type": "execute_result"
    }
   ],
   "source": [
    "pd.DataFrame(Cs, index=y, columns=θs)"
   ]
  },
  {
   "cell_type": "code",
   "execution_count": 30,
   "id": "2b089013-2490-48e5-85cf-8434de74c602",
   "metadata": {},
   "outputs": [
    {
     "data": {
      "text/html": [
       "<div>\n",
       "<style scoped>\n",
       "    .dataframe tbody tr th:only-of-type {\n",
       "        vertical-align: middle;\n",
       "    }\n",
       "\n",
       "    .dataframe tbody tr th {\n",
       "        vertical-align: top;\n",
       "    }\n",
       "\n",
       "    .dataframe thead th {\n",
       "        text-align: right;\n",
       "    }\n",
       "</style>\n",
       "<table border=\"1\" class=\"dataframe\">\n",
       "  <thead>\n",
       "    <tr style=\"text-align: right;\">\n",
       "      <th></th>\n",
       "      <th>q0</th>\n",
       "      <th>q6</th>\n",
       "      <th>q8</th>\n",
       "      <th>q11</th>\n",
       "      <th>θ0</th>\n",
       "      <th>θ4</th>\n",
       "      <th>θ6</th>\n",
       "      <th>θ8</th>\n",
       "    </tr>\n",
       "  </thead>\n",
       "  <tbody>\n",
       "    <tr>\n",
       "      <th>θ6</th>\n",
       "      <td>0.0</td>\n",
       "      <td>0.0</td>\n",
       "      <td>0.0</td>\n",
       "      <td>0.0</td>\n",
       "      <td>0.0</td>\n",
       "      <td>0.0</td>\n",
       "      <td>0.0</td>\n",
       "      <td>0.0</td>\n",
       "    </tr>\n",
       "  </tbody>\n",
       "</table>\n",
       "</div>"
      ],
      "text/plain": [
       "     q0   q6   q8  q11   θ0   θ4   θ6   θ8\n",
       "θ6  0.0  0.0  0.0  0.0  0.0  0.0  0.0  0.0"
      ]
     },
     "execution_count": 30,
     "metadata": {},
     "output_type": "execute_result"
    }
   ],
   "source": [
    "pd.DataFrame(Ds, index=y, columns=u)"
   ]
  },
  {
   "cell_type": "markdown",
   "id": "8a26bb78-28d4-42ca-a463-60ddff062d97",
   "metadata": {},
   "source": [
    "## I.V Etat statique: "
   ]
  },
  {
   "cell_type": "markdown",
   "id": "5aacac92-0397-464e-8217-912bf5ad7091",
   "metadata": {
    "tags": []
   },
   "source": [
    "\n",
    "L'état stationnaire signifie que le terme $C \\dot \\theta = 0$ dans le système de DAE.\n",
    "\n",
    "En état stationnaire, Considérons que :\n",
    "\n",
    "- le contrôleur n'est pas actif, $K_p \\rightarrow 0$,\n",
    "\n",
    "- la température extérieure est $T_o = 10 \\, \\mathrm{^\\circ C}$,\n",
    "\n",
    "- la consigne de température intérieure est $T_{i,sp} = 20 \\, \\mathrm{^\\circ C}$,\n",
    "\n",
    "- tous les débits des sources sont nuls.\n",
    "\n"
   ]
  },
  {
   "cell_type": "code",
   "execution_count": 31,
   "id": "057d723f-cec3-479f-988d-c02e4359d3b1",
   "metadata": {},
   "outputs": [],
   "source": [
    "b = np.zeros(13)        # temperature sources\n",
    "b[[0, 8, 11]] = 10      # outdoor temperature\n",
    "b[[12]] = 20            # indoor set-point temperature\n",
    "\n",
    "f = np.zeros(9)         # flow-rate sources"
   ]
  },
  {
   "cell_type": "markdown",
   "id": "528c0234-44d8-4f99-97b9-b43615af5761",
   "metadata": {
    "tags": []
   },
   "source": [
    "### I.V.1 État statique à partir d'équations algébriques différentielles (DAE)"
   ]
  },
  {
   "cell_type": "markdown",
   "id": "2d9fe093-30f3-4654-8836-c69b5c4215a3",
   "metadata": {
    "tags": []
   },
   "source": [
    "La valeur de la température en état stationnaire est obtenue à partir du système de DAE en considérant que $C \\dot{\\theta} = 0$ :\n",
    "\n",
    "$$\\theta_{ss} = (A^T G A)^{-1}(A^T G b + f)$$\n",
    "\n",
    "Pour les conditions mentionnées ci-dessus, en état stationnaire, toutes les températures \\(\\theta_0 ... \\theta_7\\), y compris la température de l'air intérieur $\\theta_6$, sont égales à $T_o = 10 \\, \\mathrm{^\\circ C}$.\n"
   ]
  },
  {
   "cell_type": "code",
   "execution_count": 32,
   "id": "a5612549-466d-4f50-93ce-09b1834a6164",
   "metadata": {},
   "outputs": [
    {
     "name": "stdout",
     "output_type": "stream",
     "text": [
      "θ = [10. 10. 10. 10. 10. 10. 10. 10. 10.] °C\n"
     ]
    }
   ],
   "source": [
    "θ = np.linalg.inv(A.T @ G @ A) @ (A.T @ G @ b + f)\n",
    "print(f'θ = {θ} °C')"
   ]
  },
  {
   "cell_type": "markdown",
   "id": "59ff0c1f-746c-460a-8b8e-f56f0fa51621",
   "metadata": {},
   "source": [
    "### I.V.2 État statique à partir d'équations des variables d'états: "
   ]
  },
  {
   "cell_type": "markdown",
   "id": "a29cd51c-08bf-4395-a070-d2c074eee82d",
   "metadata": {
    "tags": []
   },
   "source": [
    "Le vecteur d'entrée \\(u\\) est obtenu en empilant les vecteurs $b_T$ et $f_Q$:\n",
    "\n",
    "$$u = \\begin{bmatrix} b_T \\\\ f_Q\\end{bmatrix}$$\n",
    "\n",
    "où :\n",
    "- $b_T$ est un vecteur des éléments non nuls du vecteur $b$ des sources de température. Pour le circuit présenté dans la Figure 3, $b_T = [T_o, T_o, T_o, T_{i,sp}]^T$ correspondant aux branches 0, 8, 11 et 12, où :\n",
    "    - $T_o$ - température extérieure, °C;\n",
    "    - $T_{i,sp}$ - température de consigne pour l'air intérieur, °C.\n",
    "    - $f_Q$ - vecteur des éléments non nuls du vecteur \\(f\\) des sources de flux. Pour le circuit présenté dans la Figure 3, $f_Q = [\\Phi_o, \\Phi_i, \\dot{Q}_a, \\Phi_o]^T$ correspondant aux nœuds 0, 4, 6 et 8, où :\n",
    "    - $\\Phi_o$ - rayonnement solaire absorbé par la surface extérieure du mur, W;\n",
    "    - $\\Phi_i$ - rayonnement solaire absorbé par la surface intérieure du mur, W;\n",
    "    - $\\dot{Q}_a$ - gains de chaleur auxiliaires (par exemple, occupants, appareils électriques, etc.), W;\n",
    "    - $\\Phi_a$ - rayonnement solaire absorbé par le verre, W.\n"
   ]
  },
  {
   "cell_type": "code",
   "execution_count": 33,
   "id": "3780da0d-8598-4f86-bb83-fc64e91fede7",
   "metadata": {
    "tags": []
   },
   "outputs": [
    {
     "name": "stdout",
     "output_type": "stream",
     "text": [
      "u = [10 10 10 20  0  0  0  0]\n"
     ]
    }
   ],
   "source": [
    "bT = np.array([10, 10, 10, 20])     # [To, To, To, Tisp]\n",
    "fQ = np.array([0, 0, 0, 0])         # [Φo, Φi, Qa, Φa]\n",
    "u = np.hstack([bT, fQ])\n",
    "print(f'u = {u}')"
   ]
  },
  {
   "cell_type": "markdown",
   "id": "bcbf9e6a-a765-47ee-aaab-f8a4f61592e9",
   "metadata": {
    "tags": []
   },
   "source": [
    "\n",
    "$$y_{ss} = (-C_s A_s^{-1} B_s + D_s) u$$"
   ]
  },
  {
   "cell_type": "code",
   "execution_count": 34,
   "id": "219ac224-2586-48e6-8424-29dcc399eada",
   "metadata": {},
   "outputs": [
    {
     "name": "stdout",
     "output_type": "stream",
     "text": [
      "yss = [10.] °C\n"
     ]
    }
   ],
   "source": [
    "yss = (-Cs @ np.linalg.inv(As) @ Bs + Ds) @ u\n",
    "print(f'yss = {yss} °C')"
   ]
  },
  {
   "cell_type": "markdown",
   "id": "1ad4332f-372d-48aa-b19d-acb041fe53d4",
   "metadata": {},
   "source": [
    "### I.V.2 Comparaison entre l'utilisation des équations des variables d'états et équations algébriques différentielles (DAE)"
   ]
  },
  {
   "cell_type": "markdown",
   "id": "8fec8ee1-239b-425e-b8ba-40b1128fb17c",
   "metadata": {},
   "source": [
    "Pour comparer entre l'utilisation des deux systèmes d'equations on calcule l'erreur représentée ci-dessous: "
   ]
  },
  {
   "cell_type": "markdown",
   "id": "08a89aa8-1970-4f33-ae6c-5ee9f6e08eb8",
   "metadata": {},
   "source": [
    "\n",
    "$$\\varepsilon = \\left | \\theta_6 - y_{ss} \\right |$$"
   ]
  },
  {
   "cell_type": "code",
   "execution_count": 35,
   "id": "87a59afc-9c44-4f8b-9df7-22acfce592b4",
   "metadata": {},
   "outputs": [
    {
     "name": "stdout",
     "output_type": "stream",
     "text": [
      "Max error between DAE and state-space: 5.33e-15 °C\n"
     ]
    }
   ],
   "source": [
    "print(f'Max error between DAE and state-space: \\\n",
    "{max(abs(θ[6] - yss)):.2e} °C')"
   ]
  },
  {
   "cell_type": "markdown",
   "id": "45c76683-ec35-49d3-8b66-9d512796ec5c",
   "metadata": {},
   "source": [
    "### Interprétation :Etat statique \n",
    "\n",
    "On comparant les résultats obtenus par le système d'Équations Différentielles-Algébriques (DAE) avec ceux obtenus pour la représentation en espace d'état, premièrement on vérifie que les températures aux nœuds sont identiques pour les deux méthodes lorsque le système atteint un état stationnaire.\n",
    "\n",
    "Étant donné que la représentation en espace d'état et le système DAE ont été résolus (comme le suggère le code fourni), la comparaison impliquerait de soustraire la température stationnaire de l'air intérieur obtenue du système DAE $ \\theta_{6} $ de la température stationnaire obtenue de la représentation en espace d'état également $ y_{ss} $, la différence devrait est  nulle ou proche de 5.33e-15 °C une valeur trés faible ce qui indique que les deux méthodes sont correctement mises en œuvre .\n"
   ]
  },
  {
   "cell_type": "markdown",
   "id": "747a5518-38c0-429a-9fbe-22154079afd1",
   "metadata": {
    "tags": []
   },
   "source": [
    "# V.  Simulation Dynamique "
   ]
  },
  {
   "cell_type": "markdown",
   "id": "b09b49a3-1c54-47b9-8ee8-fd12d335dd25",
   "metadata": {},
   "source": [
    "## V.1 Pas du temps "
   ]
  },
  {
   "cell_type": "markdown",
   "id": "9c0d162e-389e-4de3-b59f-76580adb72ea",
   "metadata": {
    "tags": []
   },
   "source": [
    "\n",
    "La condition pour la stabilité numérique de la méthode d'intégration d'Euler explicite est :\n",
    "\n",
    "$$ \\left| \\lambda_i \\delta_t + 1 \\right| < 1, \\text{ pour tous les } \\lambda_i $$\n",
    "\n",
    "c'est-à-dire que, dans le plan complexe, \\( \\lambda_i \\delta_t \\) est à l'intérieur d'un cercle de rayon 1 centré en \\(-1, 0j\\), où :\n",
    "- \\( \\lambda_i \\) sont les valeurs propres de la matrice \\( A_s \\),\n",
    "- \\( \\delta_t \\) est le pas de temps.\n",
    "\n",
    "Pour des valeurs propres réelles positives, ce qui est le cas des réseaux thermiques, la condition ci-dessus devient :\n",
    "\n",
    "$$ - \\lambda \\delta_t - 1 < 1, \\text{ pour tous les } \\lambda_i $$\n",
    "\n",
    "ou\n",
    "\n",
    "$$ 0 < \\delta_t < -\\frac{2}{\\min(\\lambda_i)} = 2 \\times \\min\\left(-\\frac{1}{\\lambda_i}\\right) = 2 \\times \\min(T_i) $$\n",
    "\n",
    "où $T_i $ sont les constantes de temps, $ T_i = -\\frac{1}{\\lambda_i} $.\n"
   ]
  },
  {
   "cell_type": "code",
   "execution_count": 36,
   "id": "df463621-1d41-4c2b-bc4d-68199da29c47",
   "metadata": {},
   "outputs": [],
   "source": [
    "λ = np.linalg.eig(As)[0]    # eigenvalues of matrix As\n",
    "λ = np.sort(λ)"
   ]
  },
  {
   "cell_type": "code",
   "execution_count": 37,
   "id": "684f7b6e-4df7-440b-b3ce-a90fa8136f55",
   "metadata": {},
   "outputs": [
    {
     "name": "stdout",
     "output_type": "stream",
     "text": [
      "Time constants:\n",
      "['116.18 s', '4351.35 s', '41901.32 s', '45032.54 s']\n",
      "\n",
      "2 x Time constants:\n",
      "['232.36 s', '8702.70 s', '83802.64 s', '90065.07 s']\n",
      "\n",
      "Maximum time step: 232.36 s = 3.87 min\n"
     ]
    }
   ],
   "source": [
    "print('Time constants:') \n",
    "print([f'{T:.2f} s' for T in -1 / λ])\n",
    "\n",
    "print('\\n2 x Time constants:') \n",
    "print([f'{T:.2f} s' for T in -2 / λ])\n",
    "\n",
    "dtmax = 2 * min(-1. / λ)\n",
    "print(f'\\nMaximum time step: {dtmax:.2f} s = {dtmax / 60:.2f} min')"
   ]
  },
  {
   "cell_type": "markdown",
   "id": "17f1b010-7d23-46f1-8c13-cc1e7704bc0c",
   "metadata": {},
   "source": [
    "Dans cette simulation nous avons essayé de simuler les différents pas de temps afin d'étudier la stabilité des shémas. \n",
    "\n",
    "les pas de temps choisi doivent etre inférieur à : $\\Delta t_{max} = \\min (-2 / \\lambda_i) $."
   ]
  },
  {
   "cell_type": "code",
   "execution_count": 38,
   "id": "d634f2a6-d989-42f4-8f51-d973d63b5027",
   "metadata": {},
   "outputs": [
    {
     "name": "stdout",
     "output_type": "stream",
     "text": [
      "dt = 180 s = 3 min\n"
     ]
    }
   ],
   "source": [
    "# time step\n",
    "dt = np.floor(dtmax / 60) * 60   # s\n",
    "dt=180\n",
    "print(f'dt = {dt} s = {dt / 60:.0f} min')"
   ]
  },
  {
   "cell_type": "markdown",
   "id": "0d83dfe8-fe63-42c9-b913-47b1019d1a00",
   "metadata": {},
   "source": [
    "### Temps de réponse \n",
    "Le temps de réponse vaut 4 fois la constante du temps "
   ]
  },
  {
   "cell_type": "code",
   "execution_count": 39,
   "id": "89a7aa43-6fb4-46d8-bb9b-5fbd15a7102e",
   "metadata": {},
   "outputs": [
    {
     "name": "stdout",
     "output_type": "stream",
     "text": [
      "4 * Time constants: \n",
      " [   464  17404 167604 180128] s \n",
      "\n",
      "Settling time: 180130 s = 3002.2 min = 50.04 h = 2.08 days\n"
     ]
    }
   ],
   "source": [
    "# settling time\n",
    "time_const = np.array([int(x) for x in sorted(-1 / λ)])\n",
    "print('4 * Time constants: \\n', 4 * time_const, 's \\n')\n",
    "\n",
    "t_settle = 4 * max(-1 / λ)\n",
    "print(f'Settling time: \\\n",
    "{t_settle:.0f} s = \\\n",
    "{t_settle / 60:.1f} min = \\\n",
    "{t_settle / (3600):.2f} h = \\\n",
    "{t_settle / (3600 * 24):.2f} days')"
   ]
  },
  {
   "cell_type": "markdown",
   "id": "1dac581d-272f-4cdd-8843-eeb44dd6a58d",
   "metadata": {
    "tags": []
   },
   "source": [
    "\n",
    "#### Réponse à un échelon\n",
    " la réponse dynamique du système est obtenue par une entrée en échelon.\n",
    "\n",
    "#### Durée\n",
    "La durée de la simulation doit être plus longue que le temps de réponse estimé. Cela nécessite un nombre correspondant de pas de temps dans le vecteur temporel.\n"
   ]
  },
  {
   "cell_type": "code",
   "execution_count": 40,
   "id": "6062f401-b335-460a-bbba-61ddeb700662",
   "metadata": {},
   "outputs": [
    {
     "name": "stdout",
     "output_type": "stream",
     "text": [
      "Duration = 183600.0 s\n",
      "Number of time steps = 1020\n"
     ]
    }
   ],
   "source": [
    "# Step response\n",
    "# -------------\n",
    "# duration: next multiple of 3600 s that is larger than t_settle\n",
    "duration = np.ceil(t_settle / 3600) * 3600\n",
    "n = int(np.floor(duration / dt))    # number of time steps\n",
    "t = np.arange(0, n * dt, dt)        # time vector for n time steps\n",
    "\n",
    "print(f'Duration = {duration} s')\n",
    "print(f'Number of time steps = {n}')\n",
    "# pd.DataFrame(t, columns=['time'])"
   ]
  },
  {
   "cell_type": "markdown",
   "id": "e1cf346d-6283-4095-aa29-6dc378f54eb6",
   "metadata": {
    "tags": []
   },
   "source": [
    "#### Input vector\n",
    "Dans la simulation dynamique, les entrées sont des séries temporelles,\n",
    "\n",
    "Le vecteur d'entrée u de la représentation espace d'états est obtenu en empilant les vecteurs b_T et f_Q du système d'équations algébriques différentielles :\n",
    "\n",
    " $$u = \\begin{bmatrix} b_T \\\\ f_Q\\end{bmatrix}$$\n",
    "où :\n",
    "- le vecteur $b_T$ est constitué des éléments non nuls du vecteur $b$ des sources de température ; pour le circuit présenté dans la Figure 3,\n",
    " $$b = [\\begin{matrix}\n",
    "T_o &0  &0  &0  &0  &0  &0  &0  &T_o  &0 &0   &T_o  &T_{i,sp} \n",
    " \\end{matrix}]^T$$\n",
    " et \n",
    "$$b_T = [T_o, T_o, T_o, T_{i,sp}]^T$$\n",
    "correspondant aux branches 0, 8, 10 et 11 ; \n",
    "- le vecteur $f_Q$ est constitué des éléments non nuls du vecteur $f$ des sources de flux ; pour le circuit présenté dans la Figure 3,\n",
    "\n",
    " $$f = [\\begin{matrix}\n",
    "\\Phi_o &0  &0  &0  &\\Phi_i  &0  &\\dot{Q_a} &\\Phi_0 \n",
    "\\end{matrix}]^T$$\n",
    "\n",
    " et\n",
    "\n",
    " $$f_Q = [\\Phi_o, \\Phi_i, \\dot{Q}_a, \\Phi_a]^T$$\n",
    "\n",
    "correspondant aux nœuds 0, 4, 6 et 7.\n",
    "\n",
    "Pour le circuit thermique montré dans la Figure 3, la série temporelle du vecteur d'entrée, $u = [u_0, u_1, ... , u_{n-1}]^T$, est :\n",
    "\n",
    " $$u = \n",
    "\\begin{bmatrix}\n",
    "T_o\\\\ \n",
    "T_o\\\\ \n",
    "T_o\\\\ \n",
    "T_{i,sp}\\\\ \n",
    "\\Phi_o\\\\ \n",
    "\\Phi_i\\\\ \n",
    "\\dot{Q}_a\\\\ \n",
    "\\Phi_a\n",
    "\\end{bmatrix}\n",
    "= \\begin{bmatrix}\n",
    "T_{o(0)} & T_{o(1)}& ... & T_{o(n-1)}\\\\ \n",
    "T_{o(0)} & T_{o(1)}& ... & T_{o(n-1)}\\ \\\\ \n",
    "T_{o(0)} & T_{o(1)}& ... & T_{o(n-1)}\\ \\\\ \n",
    "T_{i,sp(0)} & T_{i,sp(1)}& ... & T_{i,sp(n-1)}\\ \\\\ \n",
    "\\Phi_{o(0)} & \\Phi_{o(1)} & ... & \\Phi_{o(n-1)}\\\\\n",
    "\\Phi_{i(0)} & \\Phi_{i(1)} & ... & \\Phi_{i(n-1)}\\\\ \n",
    "\\dot{Q}_{a(0)} & \\dot{Q}_{a(1)} & ... & \\dot{Q}_{a(n-1)}\\\\ \n",
    "\\Phi_{a(0)} & \\Phi_{a(1)} & ... & \\Phi_{a(n-1)}\n",
    "\\end{bmatrix}$$\n",
    "\n",
    " - $T_o = [T_{o(0)}, T_{o(1)}, ..., T_{o(n-1)}]$ est la série temporelle de la température extérieure à l'instant discret $t = [t_0, t_1, ... , t_{n-1}]$.\n",
    "\n",
    "- $T_{i, sp} = [T_{{i, sp}(0)}, T_{{i, sp}(1)}, ..., T_{{i, sp}(n-1)}]$ est la série temporelle de la température de consigne intérieure à l'instant discret $t = [t_0, t_1, ... , t_{n-1}]$.\n",
    "\n",
    "- $\\Phi_o = [\\Phi_{o(0)}, \\Phi_{o(1)}, ..., \\Phi_{o(n-1)}]$ est la série temporelle du rayonnement solaire absorbé par la surface extérieure du mur à l'instant discret $t = [t_0, t_1, ... , t_{n-1}]$.\n",
    "\n",
    "- $\\Phi_i = [\\Phi_{i(0)}, \\Phi_{i(1)}, ..., \\Phi_{i(n-1)}]$ est la série temporelle du rayonnement solaire absorbé par la surface intérieure du mur à l'instant discret $t = [t_0, t_1, ... , t_{n-1}]$.\n",
    "\n",
    "- $\\dot{Q}_a = [\\dot{Q}_{a(0)}, \\dot{Q}_{a(1)}, ..., \\dot{Q}_{a(n-1)}]$ est la série temporelle des gains de chaleur auxiliaires (c'est-à-dire, occupants, appareils électriques, etc.) à l'instant discret $t = [t_0, t_1, ... , t_{n-1}]$.\n",
    "\n",
    "- $\\Phi_a = [\\Phi_{a(0)}, \\Phi_{a(1)}, ..., \\Phi_{a(n-1)}]$ est la série temporelle du rayonnement solaire absorbé par le verre à l'instant discret $t = [t_0, t_1, ... , t_{n-1}]$.                                                                                      Considérons une réponse à l'échelon dans les conditions utilisées pour l'analyse en régime permanent, c'est-à-dire $T_o = 10 \\, \\mathrm{^\\circ C}$, $T_{i,sp} = 20 \\, \\mathrm{^\\circ C}$, et toutes les sources de flux nulles (y compris le système HVAC).\n"
   ]
  },
  {
   "cell_type": "code",
   "execution_count": 41,
   "id": "3da47c23-3af1-4515-b919-2b394a655a2f",
   "metadata": {},
   "outputs": [
    {
     "data": {
      "text/html": [
       "<div>\n",
       "<style scoped>\n",
       "    .dataframe tbody tr th:only-of-type {\n",
       "        vertical-align: middle;\n",
       "    }\n",
       "\n",
       "    .dataframe tbody tr th {\n",
       "        vertical-align: top;\n",
       "    }\n",
       "\n",
       "    .dataframe thead th {\n",
       "        text-align: right;\n",
       "    }\n",
       "</style>\n",
       "<table border=\"1\" class=\"dataframe\">\n",
       "  <thead>\n",
       "    <tr style=\"text-align: right;\">\n",
       "      <th></th>\n",
       "      <th>0</th>\n",
       "      <th>1</th>\n",
       "      <th>2</th>\n",
       "      <th>3</th>\n",
       "      <th>4</th>\n",
       "      <th>5</th>\n",
       "      <th>6</th>\n",
       "      <th>7</th>\n",
       "    </tr>\n",
       "  </thead>\n",
       "  <tbody>\n",
       "    <tr>\n",
       "      <th>0</th>\n",
       "      <td>10.0</td>\n",
       "      <td>10.0</td>\n",
       "      <td>10.0</td>\n",
       "      <td>20.0</td>\n",
       "      <td>0.0</td>\n",
       "      <td>0.0</td>\n",
       "      <td>0.0</td>\n",
       "      <td>0.0</td>\n",
       "    </tr>\n",
       "    <tr>\n",
       "      <th>1</th>\n",
       "      <td>10.0</td>\n",
       "      <td>10.0</td>\n",
       "      <td>10.0</td>\n",
       "      <td>20.0</td>\n",
       "      <td>0.0</td>\n",
       "      <td>0.0</td>\n",
       "      <td>0.0</td>\n",
       "      <td>0.0</td>\n",
       "    </tr>\n",
       "    <tr>\n",
       "      <th>2</th>\n",
       "      <td>10.0</td>\n",
       "      <td>10.0</td>\n",
       "      <td>10.0</td>\n",
       "      <td>20.0</td>\n",
       "      <td>0.0</td>\n",
       "      <td>0.0</td>\n",
       "      <td>0.0</td>\n",
       "      <td>0.0</td>\n",
       "    </tr>\n",
       "    <tr>\n",
       "      <th>3</th>\n",
       "      <td>10.0</td>\n",
       "      <td>10.0</td>\n",
       "      <td>10.0</td>\n",
       "      <td>20.0</td>\n",
       "      <td>0.0</td>\n",
       "      <td>0.0</td>\n",
       "      <td>0.0</td>\n",
       "      <td>0.0</td>\n",
       "    </tr>\n",
       "    <tr>\n",
       "      <th>4</th>\n",
       "      <td>10.0</td>\n",
       "      <td>10.0</td>\n",
       "      <td>10.0</td>\n",
       "      <td>20.0</td>\n",
       "      <td>0.0</td>\n",
       "      <td>0.0</td>\n",
       "      <td>0.0</td>\n",
       "      <td>0.0</td>\n",
       "    </tr>\n",
       "    <tr>\n",
       "      <th>...</th>\n",
       "      <td>...</td>\n",
       "      <td>...</td>\n",
       "      <td>...</td>\n",
       "      <td>...</td>\n",
       "      <td>...</td>\n",
       "      <td>...</td>\n",
       "      <td>...</td>\n",
       "      <td>...</td>\n",
       "    </tr>\n",
       "    <tr>\n",
       "      <th>1015</th>\n",
       "      <td>10.0</td>\n",
       "      <td>10.0</td>\n",
       "      <td>10.0</td>\n",
       "      <td>20.0</td>\n",
       "      <td>0.0</td>\n",
       "      <td>0.0</td>\n",
       "      <td>0.0</td>\n",
       "      <td>0.0</td>\n",
       "    </tr>\n",
       "    <tr>\n",
       "      <th>1016</th>\n",
       "      <td>10.0</td>\n",
       "      <td>10.0</td>\n",
       "      <td>10.0</td>\n",
       "      <td>20.0</td>\n",
       "      <td>0.0</td>\n",
       "      <td>0.0</td>\n",
       "      <td>0.0</td>\n",
       "      <td>0.0</td>\n",
       "    </tr>\n",
       "    <tr>\n",
       "      <th>1017</th>\n",
       "      <td>10.0</td>\n",
       "      <td>10.0</td>\n",
       "      <td>10.0</td>\n",
       "      <td>20.0</td>\n",
       "      <td>0.0</td>\n",
       "      <td>0.0</td>\n",
       "      <td>0.0</td>\n",
       "      <td>0.0</td>\n",
       "    </tr>\n",
       "    <tr>\n",
       "      <th>1018</th>\n",
       "      <td>10.0</td>\n",
       "      <td>10.0</td>\n",
       "      <td>10.0</td>\n",
       "      <td>20.0</td>\n",
       "      <td>0.0</td>\n",
       "      <td>0.0</td>\n",
       "      <td>0.0</td>\n",
       "      <td>0.0</td>\n",
       "    </tr>\n",
       "    <tr>\n",
       "      <th>1019</th>\n",
       "      <td>10.0</td>\n",
       "      <td>10.0</td>\n",
       "      <td>10.0</td>\n",
       "      <td>20.0</td>\n",
       "      <td>0.0</td>\n",
       "      <td>0.0</td>\n",
       "      <td>0.0</td>\n",
       "      <td>0.0</td>\n",
       "    </tr>\n",
       "  </tbody>\n",
       "</table>\n",
       "<p>1020 rows × 8 columns</p>\n",
       "</div>"
      ],
      "text/plain": [
       "         0     1     2     3    4    5    6    7\n",
       "0     10.0  10.0  10.0  20.0  0.0  0.0  0.0  0.0\n",
       "1     10.0  10.0  10.0  20.0  0.0  0.0  0.0  0.0\n",
       "2     10.0  10.0  10.0  20.0  0.0  0.0  0.0  0.0\n",
       "3     10.0  10.0  10.0  20.0  0.0  0.0  0.0  0.0\n",
       "4     10.0  10.0  10.0  20.0  0.0  0.0  0.0  0.0\n",
       "...    ...   ...   ...   ...  ...  ...  ...  ...\n",
       "1015  10.0  10.0  10.0  20.0  0.0  0.0  0.0  0.0\n",
       "1016  10.0  10.0  10.0  20.0  0.0  0.0  0.0  0.0\n",
       "1017  10.0  10.0  10.0  20.0  0.0  0.0  0.0  0.0\n",
       "1018  10.0  10.0  10.0  20.0  0.0  0.0  0.0  0.0\n",
       "1019  10.0  10.0  10.0  20.0  0.0  0.0  0.0  0.0\n",
       "\n",
       "[1020 rows x 8 columns]"
      ]
     },
     "execution_count": 41,
     "metadata": {},
     "output_type": "execute_result"
    }
   ],
   "source": [
    "# input vector\n",
    "#u = np.zeros([8, n])                # u = [To To To Tisp Φo Φi Qa Φa]\n",
    "#u[0:3, :] = 10 * np.ones([3, n])    # To = 10 for n time steps\n",
    "#u[3, :] = 20 * np.ones([1, n])      # Tisp = 20 for n time steps\n",
    "\n",
    "#pd.DataFrame(u)\n",
    "\n",
    "# input vector\n",
    "u = np.zeros([n, 8])                # u = [To To To Tisp Φo Φi Qa Φa]\n",
    "u[:, 0:3] = 10 * np.ones([n, 3])    # To = 10 for n time steps\n",
    "u[:, 3] = 20 * np.ones([n])         # Tisp = 20 for n time steps\n",
    "\n",
    "pd.DataFrame(u)"
   ]
  },
  {
   "cell_type": "markdown",
   "id": "c26d5657-c137-46c9-93e2-6340e13f9d7d",
   "metadata": {
    "tags": []
   },
   "source": [
    "#### Intégration dans le temps "
   ]
  },
  {
   "cell_type": "markdown",
   "id": "c6b0cfa0-301c-4bdb-8f36-8fa6d2bebee3",
   "metadata": {
    "tags": []
   },
   "source": [
    "Le modèle en espace d'état\n",
    "\n",
    "$$\\left\\{\\begin{array}{rr}\n",
    "\\dot{\\theta}_C=A_s \\theta_C + B_s u\\\\ \n",
    "y = C_s \\theta_C + D_s u\n",
    "\\end{array}\\right.$$\n",
    "\n",
    "est intégré dans le temps en utilisant la méthode d'Euler en avant (ou explicite) pour l'intégration numérique :\n",
    "\n",
    "$$ \\theta_{s,k+1} = (I + \\Delta t A) \\theta_{s,k} + \\Delta t B u_k $$\n",
    "\n",
    "et la méthode d'Euler en arrière (ou implicite) pour l'intégration numérique :\n",
    "\n",
    "$$\\theta_{s,k+1} = (I - \\Delta t A)^{-1} ( \\theta_{s,k} + \\Delta t B u_k )$$\n",
    "\n",
    "où \\( k = 0, ... , n - 1 \\).\n"
   ]
  },
  {
   "cell_type": "code",
   "execution_count": 42,
   "id": "c6e318a6-782e-4976-8b9e-3f5bd0d01797",
   "metadata": {},
   "outputs": [],
   "source": [
    "# initial conditions\n",
    "n_s = As.shape[0]                      # number of state variables\n",
    "θ_exp = np.zeros([n_s, t.shape[0]])    # explicit Euler in time t\n",
    "θ_imp = np.zeros([n_s, t.shape[0]])    # implicit Euler in time t\n",
    "\n",
    "# time integration\n",
    "I = np.eye(n_s)                        # identity matrix\n",
    "\n",
    "for k in range(n - 1):\n",
    "    θ_exp[:, k + 1] = (I + dt * As) @ θ_exp[:, k]\\\n",
    "        + dt * Bs @ u[k, :]\n",
    "    θ_imp[:, k + 1] = np.linalg.inv(I - dt * As) @ (θ_imp[:, k]\\\n",
    "        + dt * Bs @ u[k, :])   "
   ]
  },
  {
   "cell_type": "markdown",
   "id": "dc2b5250-4741-4dc7-9e48-f1961e6070b0",
   "metadata": {},
   "source": [
    " Ensuite, nous obtenons les sorties\n",
    "\n",
    " $$ y = C_s \\theta_s + D_s u$$\n",
    " \n",
    "Pour les méthodes d'Euler explicite et implicite, respectivement.\n"
   ]
  },
  {
   "cell_type": "code",
   "execution_count": 43,
   "id": "696aa2ef-3242-4a7c-a50d-bbf694a15b28",
   "metadata": {},
   "outputs": [],
   "source": [
    "# outputs\n",
    "y_exp = Cs @ θ_exp + Ds @  u.T\n",
    "y_imp = Cs @ θ_imp + Ds @  u.T"
   ]
  },
  {
   "cell_type": "markdown",
   "id": "c39cb941-fafd-48ab-9a55-d42342488fb4",
   "metadata": {},
   "source": [
    "Les résultats de l'intégration d'Euler explicite et implicite sont pratiquement identiques les deux graphes ci-dessous sont interposés:"
   ]
  },
  {
   "cell_type": "code",
   "execution_count": 44,
   "id": "049a8d85-8f52-40dc-8e90-41878ee10b4e",
   "metadata": {},
   "outputs": [
    {
     "data": {
      "image/png": "[encoded data removed]",
      "text/plain": [
       "<Figure size 640x480 with 1 Axes>"
      ]
     },
     "metadata": {},
     "output_type": "display_data"
    }
   ],
   "source": [
    "fig, ax = plt.subplots()\n",
    "ax.plot(t / 3600, y_exp.T, t / 3600, y_imp.T)\n",
    "ax.set(xlabel='Time, $t$ / h',\n",
    "       ylabel='Temperatue, $θ_i$ / °C',\n",
    "       title='Step input: outdoor temperature $T_o$')\n",
    "ax.legend(['Explicit', 'Implicit'])\n",
    "ax.grid()\n",
    "plt.show()"
   ]
  },
  {
   "cell_type": "markdown",
   "id": "3dde9c4b-5343-4e4e-baf3-f8a20355f61e",
   "metadata": {
    "tags": []
   },
   "source": [
    "> Figure 4  . Réponse progressive à la température extérieure en utilisant la méthode d'Euler\n",
    "implicite et explicite\n",
    "\n",
    "La valeur de la température intérieure obtenue après le temps de stabilisation (10°C) est presque égale à la valeur obtenue en régime permanent (9,8397 °C)."
   ]
  },
  {
   "cell_type": "code",
   "execution_count": 45,
   "id": "d6801343-7156-4c91-b7cd-f93f93229ad2",
   "metadata": {},
   "outputs": [
    {
     "name": "stdout",
     "output_type": "stream",
     "text": [
      "Steady-state indoor temperature obtained with:\n",
      "- DAE model: 10.0000 °C\n",
      "- state-space model: 10.0000 °C\n",
      "- steady-state response to step input: 9.8397 °C\n"
     ]
    }
   ],
   "source": [
    "print('Steady-state indoor temperature obtained with:')\n",
    "print(f'- DAE model: {float(θ[6]):.4f} °C')\n",
    "print(f'- state-space model: {float(yss):.4f} °C')\n",
    "print(f'- steady-state response to step input: {float(y_exp[:, -2]):.4f} °C')"
   ]
  },
  {
   "cell_type": "markdown",
   "id": "77a8d9cf-bf68-4bed-88d6-17a6402085b5",
   "metadata": {},
   "source": [
    "#### Interpretation: \n",
    "\n",
    "Pour des pas de temps faible nous observons la stabilité des deux schémas euleur explicite et implite par contre pour des pas de temps importants (400s) le shéma d'euleur explicite devient instable ."
   ]
  },
  {
   "cell_type": "markdown",
   "id": "0912b7bf-c1bd-4606-b5c4-095f3d4c581b",
   "metadata": {
    "tags": []
   },
   "source": [
    "## V.2 Simulation avec les données météorologiques"
   ]
  },
  {
   "cell_type": "markdown",
   "id": "55fecef0-f660-47d1-a1d4-bc06ad4bc997",
   "metadata": {
    "tags": []
   },
   "source": [
    "#### Heure de début et de fin\n",
    "La simulation sera effectuée de `start_date` à `end_date` indiqué au format `MM-DD HH:MM:SS` (mois, jour, heure:minute:seconde)."
   ]
  },
  {
   "cell_type": "code",
   "execution_count": 46,
   "id": "53f451dc-4055-432f-bfb9-575ab072be50",
   "metadata": {},
   "outputs": [],
   "source": [
    "start_date = '02-01 12:00:00'\n",
    "end_date = '02-07 18:00:00'"
   ]
  },
  {
   "cell_type": "code",
   "execution_count": 47,
   "id": "de1d7d8f-9c19-4b30-aab2-5bd5b5b58a58",
   "metadata": {},
   "outputs": [
    {
     "name": "stdout",
     "output_type": "stream",
     "text": [
      "2000-02-01 12:00:00 \tstart date\n",
      "2000-02-07 18:00:00 \tend date\n"
     ]
    }
   ],
   "source": [
    "start_date = '2000-' + start_date\n",
    "end_date = '2000-' + end_date\n",
    "print(f'{start_date} \\tstart date')\n",
    "print(f'{end_date} \\tend date')"
   ]
  },
  {
   "cell_type": "markdown",
   "id": "904f198e-960b-4045-93f4-1b9a34057ae0",
   "metadata": {
    "tags": []
   },
   "source": [
    "### Entrées\n",
    "##### Lire les données météorologiques\n",
    "\n",
    "A partir des données météorologiques, nous sélectionnons : \n",
    "\n",
    "- la température horaire de l'air extérieur, °C ;\n",
    "- l'irradiation solaire normale directe horaire, W/m² ;\n",
    "- l'irradiation solaire horizontale diffuse horaire, W/m²."
   ]
  },
  {
   "cell_type": "code",
   "execution_count": 48,
   "id": "d2d7d382-98c6-436f-a3da-766052220313",
   "metadata": {},
   "outputs": [],
   "source": [
    "filename = './weather_data/FRA_Lyon.074810_IWEC.epw'\n",
    "[data, meta] = dm4bem.read_epw(filename, coerce_year=None)\n",
    "weather = data[[\"temp_air\", \"dir_n_rad\", \"dif_h_rad\"]]\n",
    "del data"
   ]
  },
  {
   "cell_type": "code",
   "execution_count": 49,
   "id": "abaaf4fa-eb5a-4cd4-832d-163100be3a76",
   "metadata": {},
   "outputs": [],
   "source": [
    "weather.index = weather.index.map(lambda t: t.replace(year=2000))\n",
    "weather = weather.loc[start_date:end_date]"
   ]
  },
  {
   "cell_type": "markdown",
   "id": "71b03819-1b8d-4a54-9c8a-fb56364d07ac",
   "metadata": {},
   "source": [
    "\n",
    "#### Irradiance solaire sur les murs\n",
    "Pour l'orientation de surface donnée par`slope`, `azimuth` et `latitude`, et l'`albedo` de la surface devant le mur, en utilisant les données météorologiques, nous pouvons calculer :\n",
    " - l'irradiance directe, W/m²,\n",
    " - l'irradiance diffuse, W/m²,\n",
    " - l'irradiance réfléchie, W/m²,\n",
    "\n",
    " pour l'irradiance solaire horaire sur une surface inclinée."
   ]
  },
  {
   "cell_type": "code",
   "execution_count": 50,
   "id": "e79c6269-6464-418c-ab8a-9a8cf28e9e03",
   "metadata": {},
   "outputs": [],
   "source": [
    "surface_orientation = {'slope': 90,\n",
    "                       'azimuth': 0,\n",
    "                       'latitude': 45}\n",
    "albedo = 0.2\n",
    "rad_surf = dm4bem.sol_rad_tilt_surf(\n",
    "    weather, surface_orientation, albedo)\n",
    "# pd.DataFrame(rad_surf)"
   ]
  },
  {
   "cell_type": "code",
   "execution_count": 51,
   "id": "5e9f21e8-f118-4f99-9195-83fb25dd0b06",
   "metadata": {},
   "outputs": [],
   "source": [
    "rad_surf['Φtot'] = rad_surf.sum(axis=1)"
   ]
  },
  {
   "cell_type": "markdown",
   "id": "bacf20a0-9eef-41cd-b97c-a66da45a9f18",
   "metadata": {
    "tags": []
   },
   "source": [
    "#### Rééchantillonnage des données météorologiques\n",
    "\n",
    "Les données météorologiques sont à l'intervalle de temps de 1 heure. Elles doivent être rééchantillonnées à l'intervalle de temps $\\Delta t$ utilisé pour l'intégration numérique."
   ]
  },
  {
   "cell_type": "code",
   "execution_count": 52,
   "id": "93c1c908-ff9c-444a-9c69-b5e77270d87a",
   "metadata": {},
   "outputs": [],
   "source": [
    "# resample weather data\n",
    "data = pd.concat([weather['temp_air'], rad_surf['Φtot']], axis=1)\n",
    "data = data.resample(str(dt) + 'S').interpolate(method='linear')\n",
    "data = data.rename(columns={'temp_air': 'To'})\n",
    "data = data.rename_axis('Time')\n",
    "# pd.DataFrame(data)"
   ]
  },
  {
   "cell_type": "markdown",
   "id": "11dc5a18-d6d6-4491-b78d-4aaaa2086d85",
   "metadata": {
    "tags": []
   },
   "source": [
    "##### Entrées \n",
    " $T_{i,sp} = 20 \\, \\mathrm{^\\circ C}$ \n",
    " $\\dot{Q}_a = 0 \\, \\mathrm{W}$"
   ]
  },
  {
   "cell_type": "code",
   "execution_count": 53,
   "id": "6d61f97c-5a6b-4bef-9353-7036b195eafa",
   "metadata": {},
   "outputs": [],
   "source": [
    "data['Ti'] = 20 * np.ones(data.shape[0])\n",
    "data['Qa'] = 0 * np.ones(data.shape[0])\n",
    "# pd.DataFrame(data)"
   ]
  },
  {
   "cell_type": "markdown",
   "id": "9c94a6eb-0994-47e7-8784-0572e76963db",
   "metadata": {
    "tags": []
   },
   "source": [
    "##### Vecteur d'entrée dans le temps\n",
    "L'entrée est formée par les vecteurs de séries temporelles des sources de température \\(\\left [ T_o, T_o ,T_o, T_{i,sp} \\right ]^T\\) et les vecteurs de séries temporelles des sources de flux de chaleur \\(\\left [ \\Phi_o, \\Phi_i, \\dot{Q}_a, \\Phi_a \\right ]^T\\) :\n",
    "\n",
    "$$u = \n",
    "\\begin{bmatrix}\n",
    "T_o\\\\ \n",
    "T_o\\\\ \n",
    "T_o\\\\ \n",
    "T_{i,sp}\\\\ \n",
    "\\Phi_o\\\\ \n",
    "\\Phi_i\\\\ \n",
    "\\dot{Q}_a\\\\ \n",
    "\\Phi_a\n",
    "\\end{bmatrix}\n",
    "= \\begin{bmatrix}\n",
    "T_{o(0)} & T_{o(1)}& ... & T_{o(n-1)}\\\\ \n",
    "T_{o(0)} & T_{o(1)}& ... & T_{o(n-1)}\\\\ \n",
    "T_{o(0)} & T_{o(1)}& ... & T_{o(n-1)}\\\\ \n",
    "T_{i,sp(0)} & T_{i,sp(1)}& ... & T_{i,sp(n-1)}\\\\ \n",
    "\\Phi_{o(0)} & \\Phi_{o(1)} & ... & \\Phi_{o(n-1)}\\\\\n",
    "\\Phi_{i(0)} & \\Phi_{i(1)} & ... & \\Phi_{i(n-1)}\\\\ \n",
    "\\dot{Q}_{a(0)} & \\dot{Q}_{a(1)} & ... & \\dot{Q}_{a(n-1)}\\\\ \n",
    "\\Phi_{a(0)} & \\Phi_{a(1)} & ... & \\Phi_{a(n-1)}\n",
    "\\end{bmatrix}$$\n",
    "\n",
    "où :\n",
    "\n",
    "$T_o\\$ : le vecteur de séries temporelles des températures extérieures (issues des données météorologiques), °C.\n",
    "\n",
    "$T_{i,sp}$ : vecteur de séries temporelles des températures de consigne intérieures, °C.\n",
    "\n",
    "$\\Phi_o$ : vecteur de séries temporelles du rayonnement solaire (c'est-à-dire à courte longueur d'onde), en W, absorbé par la surface extérieure du mur :\n",
    "\n",
    "$$\\Phi_o = \\alpha_{w,SW} S_w E_{tot}$$\n",
    "\n",
    "où :\n",
    "\n",
    "- $\\alpha_{w,SW}$ est le coefficient d'absorption de la surface extérieure du mur à courte longueur d'onde, \\(0 \\leqslant \\alpha_{w,SW} \\leqslant 1\\);\n",
    "- $S_w$- surface du mur, m²;\n",
    "- $E_{tot}$ - irradiation solaire totale sur le mur, W/m².\n",
    "\n",
    "$\\Phi_i$: vecteur de séries temporelles du rayonnement à courte longueur d'onde (c'est-à-dire solaire), en W, absorbé par les surfaces intérieures du mur :\n",
    "\n",
    "$$\\Phi_i = \\tau_{g,SW}  \\alpha_{w,SW} S_g E_{tot}$$\n",
    "\n",
    "où :\n",
    "- $\\tau_{g,SW}$ est le coefficient de transmission du verre de la fenêtre, \\(0 \\leqslant \\tau_{g,SW} \\leqslant 1\\);\n",
    "-$\\alpha_{w,SW}$ - coefficient d'absorption de la surface intérieure du mur à courte longueur d'onde, \\(0 \\leqslant \\alpha_{w,SW} \\leqslant 1\\);\n",
    "- $S_g$ - surface du verre de la fenêtre, m²;\n",
    "- $E_{tot}$ - intensité totale du rayonnement solaire sur le mur, W/m².\n",
    "\n",
    "$\\dot{Q}_a$: vecteur temporel des flux de chaleur auxiliaires (des occupants, appareils électriques, etc.), W.\n",
    "\n",
    "$\\Phi_a$ : vecteur de séries temporelles du rayonnement à courte longueur d'onde (c'est-à-dire solaire), en W, absorbé par le verre de la fenêtre :\n",
    "\n",
    "$$\\Phi_a = \\alpha_{g,SW} S_g E_{tot}$$\n",
    "\n",
    "où :\n",
    "- $\\alpha_{g,SW}$ est le coefficient d'absorption\n",
    "\n",
    "- $E_{tot}$ - total solar irradiation on the wall, W/m²."
   ]
  },
  {
   "cell_type": "code",
   "execution_count": 54,
   "id": "6b9bf1da-df99-4c29-a995-a37235f92e2c",
   "metadata": {
    "tags": []
   },
   "outputs": [
    {
     "data": {
      "text/html": [
       "<div>\n",
       "<style scoped>\n",
       "    .dataframe tbody tr th:only-of-type {\n",
       "        vertical-align: middle;\n",
       "    }\n",
       "\n",
       "    .dataframe tbody tr th {\n",
       "        vertical-align: top;\n",
       "    }\n",
       "\n",
       "    .dataframe thead th {\n",
       "        text-align: right;\n",
       "    }\n",
       "</style>\n",
       "<table border=\"1\" class=\"dataframe\">\n",
       "  <thead>\n",
       "    <tr style=\"text-align: right;\">\n",
       "      <th></th>\n",
       "      <th>To</th>\n",
       "      <th>To</th>\n",
       "      <th>To</th>\n",
       "      <th>Ti</th>\n",
       "      <th>Φo</th>\n",
       "      <th>Φi</th>\n",
       "      <th>Qa</th>\n",
       "      <th>Φa</th>\n",
       "    </tr>\n",
       "    <tr>\n",
       "      <th>Time</th>\n",
       "      <th></th>\n",
       "      <th></th>\n",
       "      <th></th>\n",
       "      <th></th>\n",
       "      <th></th>\n",
       "      <th></th>\n",
       "      <th></th>\n",
       "      <th></th>\n",
       "    </tr>\n",
       "  </thead>\n",
       "  <tbody>\n",
       "    <tr>\n",
       "      <th>2000-02-01 12:00:00+01:00</th>\n",
       "      <td>10.00</td>\n",
       "      <td>10.00</td>\n",
       "      <td>10.00</td>\n",
       "      <td>20.0</td>\n",
       "      <td>803.2500</td>\n",
       "      <td>48.19500</td>\n",
       "      <td>0.0</td>\n",
       "      <td>244.1880</td>\n",
       "    </tr>\n",
       "    <tr>\n",
       "      <th>2000-02-01 12:03:00+01:00</th>\n",
       "      <td>10.05</td>\n",
       "      <td>10.05</td>\n",
       "      <td>10.05</td>\n",
       "      <td>20.0</td>\n",
       "      <td>802.4625</td>\n",
       "      <td>48.14775</td>\n",
       "      <td>0.0</td>\n",
       "      <td>243.9486</td>\n",
       "    </tr>\n",
       "    <tr>\n",
       "      <th>2000-02-01 12:06:00+01:00</th>\n",
       "      <td>10.10</td>\n",
       "      <td>10.10</td>\n",
       "      <td>10.10</td>\n",
       "      <td>20.0</td>\n",
       "      <td>801.6750</td>\n",
       "      <td>48.10050</td>\n",
       "      <td>0.0</td>\n",
       "      <td>243.7092</td>\n",
       "    </tr>\n",
       "    <tr>\n",
       "      <th>2000-02-01 12:09:00+01:00</th>\n",
       "      <td>10.15</td>\n",
       "      <td>10.15</td>\n",
       "      <td>10.15</td>\n",
       "      <td>20.0</td>\n",
       "      <td>800.8875</td>\n",
       "      <td>48.05325</td>\n",
       "      <td>0.0</td>\n",
       "      <td>243.4698</td>\n",
       "    </tr>\n",
       "    <tr>\n",
       "      <th>2000-02-01 12:12:00+01:00</th>\n",
       "      <td>10.20</td>\n",
       "      <td>10.20</td>\n",
       "      <td>10.20</td>\n",
       "      <td>20.0</td>\n",
       "      <td>800.1000</td>\n",
       "      <td>48.00600</td>\n",
       "      <td>0.0</td>\n",
       "      <td>243.2304</td>\n",
       "    </tr>\n",
       "    <tr>\n",
       "      <th>...</th>\n",
       "      <td>...</td>\n",
       "      <td>...</td>\n",
       "      <td>...</td>\n",
       "      <td>...</td>\n",
       "      <td>...</td>\n",
       "      <td>...</td>\n",
       "      <td>...</td>\n",
       "      <td>...</td>\n",
       "    </tr>\n",
       "    <tr>\n",
       "      <th>2000-02-07 17:48:00+01:00</th>\n",
       "      <td>4.36</td>\n",
       "      <td>4.36</td>\n",
       "      <td>4.36</td>\n",
       "      <td>20.0</td>\n",
       "      <td>15.7500</td>\n",
       "      <td>0.94500</td>\n",
       "      <td>0.0</td>\n",
       "      <td>4.7880</td>\n",
       "    </tr>\n",
       "    <tr>\n",
       "      <th>2000-02-07 17:51:00+01:00</th>\n",
       "      <td>4.32</td>\n",
       "      <td>4.32</td>\n",
       "      <td>4.32</td>\n",
       "      <td>20.0</td>\n",
       "      <td>11.8125</td>\n",
       "      <td>0.70875</td>\n",
       "      <td>0.0</td>\n",
       "      <td>3.5910</td>\n",
       "    </tr>\n",
       "    <tr>\n",
       "      <th>2000-02-07 17:54:00+01:00</th>\n",
       "      <td>4.28</td>\n",
       "      <td>4.28</td>\n",
       "      <td>4.28</td>\n",
       "      <td>20.0</td>\n",
       "      <td>7.8750</td>\n",
       "      <td>0.47250</td>\n",
       "      <td>0.0</td>\n",
       "      <td>2.3940</td>\n",
       "    </tr>\n",
       "    <tr>\n",
       "      <th>2000-02-07 17:57:00+01:00</th>\n",
       "      <td>4.24</td>\n",
       "      <td>4.24</td>\n",
       "      <td>4.24</td>\n",
       "      <td>20.0</td>\n",
       "      <td>3.9375</td>\n",
       "      <td>0.23625</td>\n",
       "      <td>0.0</td>\n",
       "      <td>1.1970</td>\n",
       "    </tr>\n",
       "    <tr>\n",
       "      <th>2000-02-07 18:00:00+01:00</th>\n",
       "      <td>4.20</td>\n",
       "      <td>4.20</td>\n",
       "      <td>4.20</td>\n",
       "      <td>20.0</td>\n",
       "      <td>0.0000</td>\n",
       "      <td>0.00000</td>\n",
       "      <td>0.0</td>\n",
       "      <td>0.0000</td>\n",
       "    </tr>\n",
       "  </tbody>\n",
       "</table>\n",
       "<p>3001 rows × 8 columns</p>\n",
       "</div>"
      ],
      "text/plain": [
       "                              To     To     To    Ti        Φo        Φi   Qa  \\\n",
       "Time                                                                            \n",
       "2000-02-01 12:00:00+01:00  10.00  10.00  10.00  20.0  803.2500  48.19500  0.0   \n",
       "2000-02-01 12:03:00+01:00  10.05  10.05  10.05  20.0  802.4625  48.14775  0.0   \n",
       "2000-02-01 12:06:00+01:00  10.10  10.10  10.10  20.0  801.6750  48.10050  0.0   \n",
       "2000-02-01 12:09:00+01:00  10.15  10.15  10.15  20.0  800.8875  48.05325  0.0   \n",
       "2000-02-01 12:12:00+01:00  10.20  10.20  10.20  20.0  800.1000  48.00600  0.0   \n",
       "...                          ...    ...    ...   ...       ...       ...  ...   \n",
       "2000-02-07 17:48:00+01:00   4.36   4.36   4.36  20.0   15.7500   0.94500  0.0   \n",
       "2000-02-07 17:51:00+01:00   4.32   4.32   4.32  20.0   11.8125   0.70875  0.0   \n",
       "2000-02-07 17:54:00+01:00   4.28   4.28   4.28  20.0    7.8750   0.47250  0.0   \n",
       "2000-02-07 17:57:00+01:00   4.24   4.24   4.24  20.0    3.9375   0.23625  0.0   \n",
       "2000-02-07 18:00:00+01:00   4.20   4.20   4.20  20.0    0.0000   0.00000  0.0   \n",
       "\n",
       "                                 Φa  \n",
       "Time                                 \n",
       "2000-02-01 12:00:00+01:00  244.1880  \n",
       "2000-02-01 12:03:00+01:00  243.9486  \n",
       "2000-02-01 12:06:00+01:00  243.7092  \n",
       "2000-02-01 12:09:00+01:00  243.4698  \n",
       "2000-02-01 12:12:00+01:00  243.2304  \n",
       "...                             ...  \n",
       "2000-02-07 17:48:00+01:00    4.7880  \n",
       "2000-02-07 17:51:00+01:00    3.5910  \n",
       "2000-02-07 17:54:00+01:00    2.3940  \n",
       "2000-02-07 17:57:00+01:00    1.1970  \n",
       "2000-02-07 18:00:00+01:00    0.0000  \n",
       "\n",
       "[3001 rows x 8 columns]"
      ]
     },
     "execution_count": 54,
     "metadata": {},
     "output_type": "execute_result"
    }
   ],
   "source": [
    "# input vector\n",
    "To = data['To']\n",
    "Ti = data['Ti']\n",
    "Φo = α_wSW * wall['Surface']['Layer_out'] * data['Φtot']\n",
    "Φi = τ_gSW * α_wSW * wall['Surface']['Glass'] * data['Φtot']\n",
    "Qa = data['Qa']\n",
    "Φa = α_gSW * wall['Surface']['Glass'] * data['Φtot']\n",
    "\n",
    "u = pd.concat([To, To, To, Ti, Φo, Φi, Qa, Φa], axis=1)\n",
    "u.columns.values[[4, 5, 7]] = ['Φo', 'Φi', 'Φa']\n",
    "pd.DataFrame(u)"
   ]
  },
  {
   "cell_type": "markdown",
   "id": "95d371b1-e61b-4092-8a03-3c0052fa1f7e",
   "metadata": {},
   "source": [
    "#### les conditions initiales:\n",
    "La valeur initiale du vecteur d'état peut être zéro ou différente de zéro."
   ]
  },
  {
   "cell_type": "code",
   "execution_count": 55,
   "id": "3428bbdd-d34a-4d93-8438-d1c2fe8c9279",
   "metadata": {},
   "outputs": [],
   "source": [
    "θ_exp = 20 * np.ones([As.shape[0], u.shape[0]])"
   ]
  },
  {
   "cell_type": "markdown",
   "id": "a9f75273-a2d7-4bea-b30d-c8b1adeec56f",
   "metadata": {
    "tags": []
   },
   "source": [
    "### temps d'intégration :\n",
    "\n",
    "#### Euler Explicit  ,\n",
    "\n",
    "$$ \\theta_{s,k+1} = (I + \\Delta t A) \\theta_{s,k} + \\Delta t B u_k $$\n",
    "\n",
    "where $k = 0, ... , n - 1$,"
   ]
  },
  {
   "cell_type": "code",
   "execution_count": 56,
   "id": "6dd045e0-2a7a-4946-9f37-ed341d9da11d",
   "metadata": {},
   "outputs": [],
   "source": [
    "for k in range(u.shape[0] - 1):\n",
    "    θ_exp[:, k + 1] = (I + dt * As) @ θ_exp[:, k]\\\n",
    "        + dt * Bs @ u.iloc[k, :]"
   ]
  },
  {
   "cell_type": "markdown",
   "id": "c7fcc96b-baa9-4582-a9df-8042f90352ed",
   "metadata": {
    "tags": []
   },
   "source": [
    "Produit la variation temporelle de la variable d'état θ, à partir de laquelle nous obtenons la variation de la sortie (c'est-à-dire la température intérieure) :\n",
    "\n",
    "$$y = C_s \\theta_s + D_s u$$\n",
    "\n",
    "et la variation du flux de chaleur du système HVAC ::\n",
    "\n",
    "$$q_{HVAC} = K_p (T_{i,sp} - \\theta_i) = K_p (T_{i,sp} - y)$$\n",
    "\n",
    "où K_p est le gain du régulateur P et T_i_sp est le point de consigne du système HVAC pour la température intérieure.."
   ]
  },
  {
   "cell_type": "code",
   "execution_count": 57,
   "id": "d80f2c02-3119-4309-9635-5fd0ee967293",
   "metadata": {
    "tags": []
   },
   "outputs": [],
   "source": [
    "y_exp = Cs @ θ_exp + Ds @ u.to_numpy().T\n",
    "q_HVAC = Kp * (data['Ti'] - y_exp[0, :])"
   ]
  },
  {
   "cell_type": "code",
   "execution_count": 58,
   "id": "5960a54b-27b7-4887-a4aa-d0684bb3c89d",
   "metadata": {},
   "outputs": [],
   "source": [
    "data['θi_exp'] = y_exp.T\n",
    "data['q_HVAC'] = q_HVAC.T"
   ]
  },
  {
   "cell_type": "code",
   "execution_count": 59,
   "id": "723f3f3d-8a6e-48b1-b450-55eddf077e1a",
   "metadata": {},
   "outputs": [
    {
     "data": {
      "image/png": "[encoded data removed]",
      "text/plain": [
       "<Figure size 640x480 with 2 Axes>"
      ]
     },
     "metadata": {},
     "output_type": "display_data"
    }
   ],
   "source": [
    "fig, axs = plt.subplots(2, 1)\n",
    "\n",
    "data[['To', 'θi_exp']].plot(ax=axs[0],\n",
    "                            xticks=[],\n",
    "                            ylabel='Temperature, $θ$ / °C')\n",
    "axs[0].legend(['$θ_{outdoor}$', '$θ_{indoor}$'],\n",
    "              loc='upper right')\n",
    "\n",
    "data[['Φtot', 'q_HVAC']].plot(ax=axs[1],\n",
    "                              ylabel='Heat rate, $q$ / W')\n",
    "axs[1].set(xlabel='Time')\n",
    "axs[1].legend(['$Φ_{total}$', '$q_{HVAC}$'],\n",
    "             loc='upper right')\n",
    "plt.show()"
   ]
  },
  {
   "cell_type": "markdown",
   "id": "5269b547-190c-4c45-92d5-4544f7eca659",
   "metadata": {},
   "source": [
    "> Figure 5. Simulation en marche libre avec les données météorologiques en utilisant la méthode d'intégration explicite d'Euler. a) Températures intérieure et extérieure. b) Débits de chaleur solaire et CVC."
   ]
  },
  {
   "cell_type": "code",
   "execution_count": 60,
   "id": "f7ece29e-0059-4e52-8498-c5b20b252994",
   "metadata": {
    "tags": []
   },
   "outputs": [
    {
     "data": {
      "image/png": "[encoded data removed]",
      "text/plain": [
       "<Figure size 640x480 with 2 Axes>"
      ]
     },
     "metadata": {},
     "output_type": "display_data"
    }
   ],
   "source": [
    "t = dt * np.arange(data.shape[0])   # time vector\n",
    "\n",
    "fig, axs = plt.subplots(2, 1)\n",
    "# plot outdoor and indoor temperature\n",
    "axs[0].plot(t / 3600 / 24, data['To'], label='$θ_{outdoor}$')\n",
    "axs[0].plot(t / 3600 / 24, y_exp[0, :], label='$θ_{indoor}$')\n",
    "axs[0].set(ylabel='Temperatures, $θ$ / °C',\n",
    "           title='Simulation for weather')\n",
    "axs[0].legend(loc='upper right')\n",
    "\n",
    "# plot total solar radiation and HVAC heat flow\n",
    "axs[1].plot(t / 3600 / 24, data['Φtot'], label='$Φ_{total}$')\n",
    "axs[1].plot(t / 3600 / 24, q_HVAC, label='$q_{HVAC}$')\n",
    "axs[1].set(xlabel='Time, $t$ / day',\n",
    "           ylabel='Heat flows, $q$ / W')\n",
    "axs[1].legend(loc='upper right')\n",
    "\n",
    "fig.tight_layout()"
   ]
  },
  {
   "cell_type": "markdown",
   "id": "ff1d5ac5-e9d7-4046-8adf-62fa7ca52988",
   "metadata": {},
   "source": [
    "> Figure 6. Simulation en marche libre avec les données météorologiques en utilisant la méthode d'intégration explicite d'Euler. a) Températures intérieure et extérieure. b) Débits de chaleur solaire et CVC."
   ]
  },
  {
   "cell_type": "markdown",
   "id": "a7ee958f-9eaf-4e17-a6d6-fb6149d9cd00",
   "metadata": {},
   "source": [
    "# V.I Interprétaion des résultats :\n",
    "\n",
    "Dans le graphique des températures, la température extérieure varie naturellement tout au long des jours, probablement en suivant les données météorologiques. La température intérieure semble suivre la tendance de la température extérieure mais avec une certaine inertie, ce qui suggère une isolation thermique du bâtiment qui atténue les variations extérieures.\n",
    "\n",
    "Pour le graphique des flux de chaleur, les pics représentent probablement des moments où le système HVAC est actif, essayant de maintenir la température intérieure à une valeur de consigne. Lorsque le flux total chute à zéro, cela indique probablement que le besoin de chauffage ou de refroidissement est minimal en raison d'une température extérieure proche de la consigne intérieure.\n",
    "\n",
    "Les pics dans le graphique du flux de chaleur du système HVAC montrent les périodes d'activation du système pour maintenir le confort intérieur. La hauteur des pics peut indiquer la quantité d'énergie nécessaire pour compenser les pertes de chaleur ou les gains non désirés à travers l'enveloppe du bâtiment.\n",
    "\n",
    "Ces graphiques fournissent des informations précieuses sur les performances du bâtiment et la demande en énergie pour le chauffage ou la climatisation. Ils peuvent également aider à identifier les opportunités d'amélioration de l'efficacité énergétique, telles que l'amélioration de l'isolation ou la mise à niveau du système HVAC.\n"
   ]
  }
 ],
 "metadata": {
  "kernelspec": {
   "display_name": "Python 3 (ipykernel)",
   "language": "python",
   "name": "python3"
  },
  "language_info": {
   "codemirror_mode": {
    "name": "ipython",
    "version": 3
   },
   "file_extension": ".py",
   "mimetype": "text/x-python",
   "name": "python",
   "nbconvert_exporter": "python",
   "pygments_lexer": "ipython3",
   "version": "3.11.5"
  },
  "toc-autonumbering": true,
  "toc-showcode": false,
  "toc-showmarkdowntxt": false,
  "toc-showtags": false
 },
 "nbformat": 4,
 "nbformat_minor": 5
}
